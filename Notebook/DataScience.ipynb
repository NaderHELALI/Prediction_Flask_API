{
  "nbformat": 4,
  "nbformat_minor": 0,
  "metadata": {
    "colab": {
      "name": "DataScience.ipynb",
      "provenance": [],
      "collapsed_sections": [
        "2DnYPJ2PzNnM",
        "m-PEir7BzKWA",
        "A0PlX1vuzm_w",
        "iAE0CUoDzv9K",
        "b21w-EVq0BEF",
        "3HsKt8AO0FJy",
        "DjB81awO0cr-",
        "rIKPfogt0lD2",
        "atAOb9uu0qZg",
        "0y13jnzIbT3r",
        "-lXO6t9IbnsO",
        "9YUp9QMH18PK",
        "RYIjiBHR8uew",
        "DCEaxayD815u",
        "-4gBzNXy7YzN",
        "arWrtNfNEtZU",
        "g3Ke85vnFdju",
        "q4wjYuAdFmR6",
        "2OLIuJ-QAhA8",
        "8tgzKR_PIui9",
        "BckQIVQIJuBz",
        "v4ZpMl5aKORO",
        "7_3E1q0VKUnP",
        "axaJRgjzRbZQ",
        "VUsIaXR0R_6m",
        "TO74OiUASSAk",
        "aOfCRIoTSuhy",
        "caUz1jpfTA7z"
      ]
    },
    "kernelspec": {
      "name": "python3",
      "display_name": "Python 3"
    }
  },
  "cells": [
    {
      "cell_type": "markdown",
      "metadata": {
        "id": "2DnYPJ2PzNnM"
      },
      "source": [
        "# Modules :"
      ]
    },
    {
      "cell_type": "code",
      "metadata": {
        "id": "_mLHP7clzSAt"
      },
      "source": [
        "import pandas as pd\r\n",
        "import numpy as np\r\n",
        "import seaborn as sns\r\n",
        "import matplotlib.pyplot as plt\r\n",
        "\r\n",
        "\r\n",
        "from sklearn.preprocessing import StandardScaler\r\n",
        "from sklearn.model_selection import train_test_split\r\n",
        "from sklearn.metrics import accuracy_score\r\n",
        "from sklearn.metrics import confusion_matrix\r\n",
        "\r\n",
        "from sklearn import tree\r\n",
        "from sklearn.naive_bayes import GaussianNB \r\n",
        "from sklearn.ensemble import RandomForestClassifier, ExtraTreesClassifier\r\n",
        "from sklearn.model_selection import GridSearchCV"
      ],
      "execution_count": null,
      "outputs": []
    },
    {
      "cell_type": "markdown",
      "metadata": {
        "id": "m-PEir7BzKWA"
      },
      "source": [
        "# Import DataSet\r\n",
        "**Data Set Information:**\r\n",
        "\r\n",
        "The dataset consists of feature vectors belonging to 12,330 sessions.\r\n",
        "The dataset was formed so that each session would belong to a different user in a 1-year period to avoid any tendency to a specific campaign, special day, user profile, or period.\r\n"
      ]
    },
    {
      "cell_type": "code",
      "metadata": {
        "id": "XQdxFXFZzMAD"
      },
      "source": [
        "data = pd.read_csv(\"online_shoppers_intention.csv\")"
      ],
      "execution_count": null,
      "outputs": []
    },
    {
      "cell_type": "code",
      "metadata": {
        "colab": {
          "base_uri": "https://localhost:8080/"
        },
        "id": "dP67_CHTzcQl",
        "outputId": "460a1666-867f-4ce2-bc22-018a95e5bdf6"
      },
      "source": [
        "data.columns"
      ],
      "execution_count": null,
      "outputs": [
        {
          "output_type": "execute_result",
          "data": {
            "text/plain": [
              "Index(['Administrative', 'Administrative_Duration', 'Informational',\n",
              "       'Informational_Duration', 'ProductRelated', 'ProductRelated_Duration',\n",
              "       'BounceRates', 'ExitRates', 'PageValues', 'SpecialDay', 'Month',\n",
              "       'OperatingSystems', 'Browser', 'Region', 'TrafficType', 'VisitorType',\n",
              "       'Weekend', 'Revenue'],\n",
              "      dtype='object')"
            ]
          },
          "metadata": {
            "tags": []
          },
          "execution_count": 268
        }
      ]
    },
    {
      "cell_type": "markdown",
      "metadata": {
        "id": "G2nnQrtnzfrI"
      },
      "source": [
        "* Administrative: This is the number of pages of this type (administrative) that the user visisted. \r\n",
        "* Administrative_Duration: This is the amount of time spent in this category of pages\r\n",
        "* Informational: This is the number of pages of this type (informational) that the user visited.\r\n",
        "* Informational_Duration: This is the amount of time spent in this category of pages.\r\n",
        "* Product Related: This is the number of pages of this type (product related) that the user visited.\r\n",
        "* Product Related Duration: This is the amount of time spent in this category of pages\r\n",
        "* Bounce Rate is the percentage of visitors who enter the site from that page and then leave (\"bounce\") without triggering any other requests to the analytics server during that session.\r\n",
        "* Exit Rate is calculated as for all pageviews to the page, the percentage that were the last in the session.\r\n",
        "* Page Value represents the average value for a web page that a user visited before completing an e-commerce transaction.\r\n",
        "* Special Day indicates the closeness of the site visiting time to a specific special day (e.g. Mother’s Day, Valentine's Day) in which the sessions are more likely to be finalized with transaction.\r\n",
        "* The dataset also includes operating system, browser, region, traffic type, visitor type as returning or new visitor, a Boolean value indicating whether the date of the visit is weekend, and month of the year."
      ]
    },
    {
      "cell_type": "markdown",
      "metadata": {
        "id": "A0PlX1vuzm_w"
      },
      "source": [
        "# Data Information"
      ]
    },
    {
      "cell_type": "markdown",
      "metadata": {
        "id": "iAE0CUoDzv9K"
      },
      "source": [
        "### Elements"
      ]
    },
    {
      "cell_type": "code",
      "metadata": {
        "colab": {
          "base_uri": "https://localhost:8080/"
        },
        "id": "LknuVEWPztcA",
        "outputId": "ea0f5c44-93bf-49b6-bd78-7c169c25208e"
      },
      "source": [
        "data.sample(4)"
      ],
      "execution_count": null,
      "outputs": [
        {
          "output_type": "execute_result",
          "data": {
            "text/html": [
              "<div>\n",
              "<style scoped>\n",
              "    .dataframe tbody tr th:only-of-type {\n",
              "        vertical-align: middle;\n",
              "    }\n",
              "\n",
              "    .dataframe tbody tr th {\n",
              "        vertical-align: top;\n",
              "    }\n",
              "\n",
              "    .dataframe thead th {\n",
              "        text-align: right;\n",
              "    }\n",
              "</style>\n",
              "<table border=\"1\" class=\"dataframe\">\n",
              "  <thead>\n",
              "    <tr style=\"text-align: right;\">\n",
              "      <th></th>\n",
              "      <th>Administrative</th>\n",
              "      <th>Administrative_Duration</th>\n",
              "      <th>Informational</th>\n",
              "      <th>Informational_Duration</th>\n",
              "      <th>ProductRelated</th>\n",
              "      <th>ProductRelated_Duration</th>\n",
              "      <th>BounceRates</th>\n",
              "      <th>ExitRates</th>\n",
              "      <th>PageValues</th>\n",
              "      <th>SpecialDay</th>\n",
              "      <th>Month</th>\n",
              "      <th>OperatingSystems</th>\n",
              "      <th>Browser</th>\n",
              "      <th>Region</th>\n",
              "      <th>TrafficType</th>\n",
              "      <th>VisitorType</th>\n",
              "      <th>Weekend</th>\n",
              "      <th>Revenue</th>\n",
              "    </tr>\n",
              "  </thead>\n",
              "  <tbody>\n",
              "    <tr>\n",
              "      <th>4584</th>\n",
              "      <td>0</td>\n",
              "      <td>0.000000</td>\n",
              "      <td>0</td>\n",
              "      <td>0.0</td>\n",
              "      <td>68</td>\n",
              "      <td>3177.791667</td>\n",
              "      <td>0.005970</td>\n",
              "      <td>0.011488</td>\n",
              "      <td>0.0</td>\n",
              "      <td>0.0</td>\n",
              "      <td>May</td>\n",
              "      <td>2</td>\n",
              "      <td>4</td>\n",
              "      <td>4</td>\n",
              "      <td>4</td>\n",
              "      <td>Returning_Visitor</td>\n",
              "      <td>False</td>\n",
              "      <td>False</td>\n",
              "    </tr>\n",
              "    <tr>\n",
              "      <th>7409</th>\n",
              "      <td>0</td>\n",
              "      <td>0.000000</td>\n",
              "      <td>0</td>\n",
              "      <td>0.0</td>\n",
              "      <td>2</td>\n",
              "      <td>0.000000</td>\n",
              "      <td>0.200000</td>\n",
              "      <td>0.200000</td>\n",
              "      <td>0.0</td>\n",
              "      <td>0.0</td>\n",
              "      <td>Jul</td>\n",
              "      <td>3</td>\n",
              "      <td>2</td>\n",
              "      <td>1</td>\n",
              "      <td>1</td>\n",
              "      <td>Returning_Visitor</td>\n",
              "      <td>False</td>\n",
              "      <td>False</td>\n",
              "    </tr>\n",
              "    <tr>\n",
              "      <th>9972</th>\n",
              "      <td>0</td>\n",
              "      <td>0.000000</td>\n",
              "      <td>0</td>\n",
              "      <td>0.0</td>\n",
              "      <td>63</td>\n",
              "      <td>1361.203175</td>\n",
              "      <td>0.000000</td>\n",
              "      <td>0.014762</td>\n",
              "      <td>0.0</td>\n",
              "      <td>0.0</td>\n",
              "      <td>Nov</td>\n",
              "      <td>2</td>\n",
              "      <td>2</td>\n",
              "      <td>7</td>\n",
              "      <td>2</td>\n",
              "      <td>Returning_Visitor</td>\n",
              "      <td>False</td>\n",
              "      <td>False</td>\n",
              "    </tr>\n",
              "    <tr>\n",
              "      <th>8146</th>\n",
              "      <td>7</td>\n",
              "      <td>60.291667</td>\n",
              "      <td>0</td>\n",
              "      <td>0.0</td>\n",
              "      <td>8</td>\n",
              "      <td>108.500000</td>\n",
              "      <td>0.013333</td>\n",
              "      <td>0.048667</td>\n",
              "      <td>0.0</td>\n",
              "      <td>0.0</td>\n",
              "      <td>Dec</td>\n",
              "      <td>2</td>\n",
              "      <td>2</td>\n",
              "      <td>2</td>\n",
              "      <td>6</td>\n",
              "      <td>Returning_Visitor</td>\n",
              "      <td>False</td>\n",
              "      <td>False</td>\n",
              "    </tr>\n",
              "  </tbody>\n",
              "</table>\n",
              "</div>"
            ],
            "text/plain": [
              "      Administrative  Administrative_Duration  ...  Weekend  Revenue\n",
              "4584               0                 0.000000  ...    False    False\n",
              "7409               0                 0.000000  ...    False    False\n",
              "9972               0                 0.000000  ...    False    False\n",
              "8146               7                60.291667  ...    False    False\n",
              "\n",
              "[4 rows x 18 columns]"
            ]
          },
          "metadata": {
            "tags": []
          },
          "execution_count": 269
        }
      ]
    },
    {
      "cell_type": "markdown",
      "metadata": {
        "id": "3a1UpsTp0NU8"
      },
      "source": [
        "### Features informations"
      ]
    },
    {
      "cell_type": "code",
      "metadata": {
        "colab": {
          "base_uri": "https://localhost:8080/"
        },
        "id": "0E1mDJIJz0y0",
        "outputId": "307c7c61-7395-4fa6-907c-291914ffcc33"
      },
      "source": [
        "data.info()"
      ],
      "execution_count": null,
      "outputs": [
        {
          "output_type": "stream",
          "text": [
            "<class 'pandas.core.frame.DataFrame'>\n",
            "RangeIndex: 12330 entries, 0 to 12329\n",
            "Data columns (total 18 columns):\n",
            " #   Column                   Non-Null Count  Dtype  \n",
            "---  ------                   --------------  -----  \n",
            " 0   Administrative           12330 non-null  int64  \n",
            " 1   Administrative_Duration  12330 non-null  float64\n",
            " 2   Informational            12330 non-null  int64  \n",
            " 3   Informational_Duration   12330 non-null  float64\n",
            " 4   ProductRelated           12330 non-null  int64  \n",
            " 5   ProductRelated_Duration  12330 non-null  float64\n",
            " 6   BounceRates              12330 non-null  float64\n",
            " 7   ExitRates                12330 non-null  float64\n",
            " 8   PageValues               12330 non-null  float64\n",
            " 9   SpecialDay               12330 non-null  float64\n",
            " 10  Month                    12330 non-null  object \n",
            " 11  OperatingSystems         12330 non-null  int64  \n",
            " 12  Browser                  12330 non-null  int64  \n",
            " 13  Region                   12330 non-null  int64  \n",
            " 14  TrafficType              12330 non-null  int64  \n",
            " 15  VisitorType              12330 non-null  object \n",
            " 16  Weekend                  12330 non-null  bool   \n",
            " 17  Revenue                  12330 non-null  bool   \n",
            "dtypes: bool(2), float64(7), int64(7), object(2)\n",
            "memory usage: 1.5+ MB\n"
          ],
          "name": "stdout"
        }
      ]
    },
    {
      "cell_type": "markdown",
      "metadata": {
        "id": "b21w-EVq0BEF"
      },
      "source": [
        "### Features Distribution"
      ]
    },
    {
      "cell_type": "code",
      "metadata": {
        "colab": {
          "base_uri": "https://localhost:8080/"
        },
        "id": "Qmc1t7FSz4YR",
        "outputId": "ec85cf32-168a-4afb-82ce-572b2c649a77"
      },
      "source": [
        "data.describe().T"
      ],
      "execution_count": null,
      "outputs": [
        {
          "output_type": "execute_result",
          "data": {
            "text/html": [
              "<div>\n",
              "<style scoped>\n",
              "    .dataframe tbody tr th:only-of-type {\n",
              "        vertical-align: middle;\n",
              "    }\n",
              "\n",
              "    .dataframe tbody tr th {\n",
              "        vertical-align: top;\n",
              "    }\n",
              "\n",
              "    .dataframe thead th {\n",
              "        text-align: right;\n",
              "    }\n",
              "</style>\n",
              "<table border=\"1\" class=\"dataframe\">\n",
              "  <thead>\n",
              "    <tr style=\"text-align: right;\">\n",
              "      <th></th>\n",
              "      <th>count</th>\n",
              "      <th>mean</th>\n",
              "      <th>std</th>\n",
              "      <th>min</th>\n",
              "      <th>25%</th>\n",
              "      <th>50%</th>\n",
              "      <th>75%</th>\n",
              "      <th>max</th>\n",
              "    </tr>\n",
              "  </thead>\n",
              "  <tbody>\n",
              "    <tr>\n",
              "      <th>Administrative</th>\n",
              "      <td>12330.0</td>\n",
              "      <td>2.315166</td>\n",
              "      <td>3.321784</td>\n",
              "      <td>0.0</td>\n",
              "      <td>0.000000</td>\n",
              "      <td>1.000000</td>\n",
              "      <td>4.000000</td>\n",
              "      <td>27.000000</td>\n",
              "    </tr>\n",
              "    <tr>\n",
              "      <th>Administrative_Duration</th>\n",
              "      <td>12330.0</td>\n",
              "      <td>80.818611</td>\n",
              "      <td>176.779107</td>\n",
              "      <td>0.0</td>\n",
              "      <td>0.000000</td>\n",
              "      <td>7.500000</td>\n",
              "      <td>93.256250</td>\n",
              "      <td>3398.750000</td>\n",
              "    </tr>\n",
              "    <tr>\n",
              "      <th>Informational</th>\n",
              "      <td>12330.0</td>\n",
              "      <td>0.503569</td>\n",
              "      <td>1.270156</td>\n",
              "      <td>0.0</td>\n",
              "      <td>0.000000</td>\n",
              "      <td>0.000000</td>\n",
              "      <td>0.000000</td>\n",
              "      <td>24.000000</td>\n",
              "    </tr>\n",
              "    <tr>\n",
              "      <th>Informational_Duration</th>\n",
              "      <td>12330.0</td>\n",
              "      <td>34.472398</td>\n",
              "      <td>140.749294</td>\n",
              "      <td>0.0</td>\n",
              "      <td>0.000000</td>\n",
              "      <td>0.000000</td>\n",
              "      <td>0.000000</td>\n",
              "      <td>2549.375000</td>\n",
              "    </tr>\n",
              "    <tr>\n",
              "      <th>ProductRelated</th>\n",
              "      <td>12330.0</td>\n",
              "      <td>31.731468</td>\n",
              "      <td>44.475503</td>\n",
              "      <td>0.0</td>\n",
              "      <td>7.000000</td>\n",
              "      <td>18.000000</td>\n",
              "      <td>38.000000</td>\n",
              "      <td>705.000000</td>\n",
              "    </tr>\n",
              "    <tr>\n",
              "      <th>ProductRelated_Duration</th>\n",
              "      <td>12330.0</td>\n",
              "      <td>1194.746220</td>\n",
              "      <td>1913.669288</td>\n",
              "      <td>0.0</td>\n",
              "      <td>184.137500</td>\n",
              "      <td>598.936905</td>\n",
              "      <td>1464.157213</td>\n",
              "      <td>63973.522230</td>\n",
              "    </tr>\n",
              "    <tr>\n",
              "      <th>BounceRates</th>\n",
              "      <td>12330.0</td>\n",
              "      <td>0.022191</td>\n",
              "      <td>0.048488</td>\n",
              "      <td>0.0</td>\n",
              "      <td>0.000000</td>\n",
              "      <td>0.003112</td>\n",
              "      <td>0.016813</td>\n",
              "      <td>0.200000</td>\n",
              "    </tr>\n",
              "    <tr>\n",
              "      <th>ExitRates</th>\n",
              "      <td>12330.0</td>\n",
              "      <td>0.043073</td>\n",
              "      <td>0.048597</td>\n",
              "      <td>0.0</td>\n",
              "      <td>0.014286</td>\n",
              "      <td>0.025156</td>\n",
              "      <td>0.050000</td>\n",
              "      <td>0.200000</td>\n",
              "    </tr>\n",
              "    <tr>\n",
              "      <th>PageValues</th>\n",
              "      <td>12330.0</td>\n",
              "      <td>5.889258</td>\n",
              "      <td>18.568437</td>\n",
              "      <td>0.0</td>\n",
              "      <td>0.000000</td>\n",
              "      <td>0.000000</td>\n",
              "      <td>0.000000</td>\n",
              "      <td>361.763742</td>\n",
              "    </tr>\n",
              "    <tr>\n",
              "      <th>SpecialDay</th>\n",
              "      <td>12330.0</td>\n",
              "      <td>0.061427</td>\n",
              "      <td>0.198917</td>\n",
              "      <td>0.0</td>\n",
              "      <td>0.000000</td>\n",
              "      <td>0.000000</td>\n",
              "      <td>0.000000</td>\n",
              "      <td>1.000000</td>\n",
              "    </tr>\n",
              "    <tr>\n",
              "      <th>OperatingSystems</th>\n",
              "      <td>12330.0</td>\n",
              "      <td>2.124006</td>\n",
              "      <td>0.911325</td>\n",
              "      <td>1.0</td>\n",
              "      <td>2.000000</td>\n",
              "      <td>2.000000</td>\n",
              "      <td>3.000000</td>\n",
              "      <td>8.000000</td>\n",
              "    </tr>\n",
              "    <tr>\n",
              "      <th>Browser</th>\n",
              "      <td>12330.0</td>\n",
              "      <td>2.357097</td>\n",
              "      <td>1.717277</td>\n",
              "      <td>1.0</td>\n",
              "      <td>2.000000</td>\n",
              "      <td>2.000000</td>\n",
              "      <td>2.000000</td>\n",
              "      <td>13.000000</td>\n",
              "    </tr>\n",
              "    <tr>\n",
              "      <th>Region</th>\n",
              "      <td>12330.0</td>\n",
              "      <td>3.147364</td>\n",
              "      <td>2.401591</td>\n",
              "      <td>1.0</td>\n",
              "      <td>1.000000</td>\n",
              "      <td>3.000000</td>\n",
              "      <td>4.000000</td>\n",
              "      <td>9.000000</td>\n",
              "    </tr>\n",
              "    <tr>\n",
              "      <th>TrafficType</th>\n",
              "      <td>12330.0</td>\n",
              "      <td>4.069586</td>\n",
              "      <td>4.025169</td>\n",
              "      <td>1.0</td>\n",
              "      <td>2.000000</td>\n",
              "      <td>2.000000</td>\n",
              "      <td>4.000000</td>\n",
              "      <td>20.000000</td>\n",
              "    </tr>\n",
              "  </tbody>\n",
              "</table>\n",
              "</div>"
            ],
            "text/plain": [
              "                           count         mean  ...          75%           max\n",
              "Administrative           12330.0     2.315166  ...     4.000000     27.000000\n",
              "Administrative_Duration  12330.0    80.818611  ...    93.256250   3398.750000\n",
              "Informational            12330.0     0.503569  ...     0.000000     24.000000\n",
              "Informational_Duration   12330.0    34.472398  ...     0.000000   2549.375000\n",
              "ProductRelated           12330.0    31.731468  ...    38.000000    705.000000\n",
              "ProductRelated_Duration  12330.0  1194.746220  ...  1464.157213  63973.522230\n",
              "BounceRates              12330.0     0.022191  ...     0.016813      0.200000\n",
              "ExitRates                12330.0     0.043073  ...     0.050000      0.200000\n",
              "PageValues               12330.0     5.889258  ...     0.000000    361.763742\n",
              "SpecialDay               12330.0     0.061427  ...     0.000000      1.000000\n",
              "OperatingSystems         12330.0     2.124006  ...     3.000000      8.000000\n",
              "Browser                  12330.0     2.357097  ...     2.000000     13.000000\n",
              "Region                   12330.0     3.147364  ...     4.000000      9.000000\n",
              "TrafficType              12330.0     4.069586  ...     4.000000     20.000000\n",
              "\n",
              "[14 rows x 8 columns]"
            ]
          },
          "metadata": {
            "tags": []
          },
          "execution_count": 271
        }
      ]
    },
    {
      "cell_type": "markdown",
      "metadata": {
        "id": "3HsKt8AO0FJy"
      },
      "source": [
        "### Unknown Data"
      ]
    },
    {
      "cell_type": "code",
      "metadata": {
        "colab": {
          "base_uri": "https://localhost:8080/"
        },
        "id": "z21WYxqhz1YJ",
        "outputId": "81b9b181-59d6-4388-9725-534566c7dffc"
      },
      "source": [
        "data.isnull().sum()"
      ],
      "execution_count": null,
      "outputs": [
        {
          "output_type": "execute_result",
          "data": {
            "text/plain": [
              "Administrative             0\n",
              "Administrative_Duration    0\n",
              "Informational              0\n",
              "Informational_Duration     0\n",
              "ProductRelated             0\n",
              "ProductRelated_Duration    0\n",
              "BounceRates                0\n",
              "ExitRates                  0\n",
              "PageValues                 0\n",
              "SpecialDay                 0\n",
              "Month                      0\n",
              "OperatingSystems           0\n",
              "Browser                    0\n",
              "Region                     0\n",
              "TrafficType                0\n",
              "VisitorType                0\n",
              "Weekend                    0\n",
              "Revenue                    0\n",
              "dtype: int64"
            ]
          },
          "metadata": {
            "tags": []
          },
          "execution_count": 272
        }
      ]
    },
    {
      "cell_type": "markdown",
      "metadata": {
        "id": "DjB81awO0cr-"
      },
      "source": [
        "# Data Visualisation"
      ]
    },
    {
      "cell_type": "markdown",
      "metadata": {
        "id": "rIKPfogt0lD2"
      },
      "source": [
        "### Graph 1 : Labels Class"
      ]
    },
    {
      "cell_type": "code",
      "metadata": {
        "colab": {
          "base_uri": "https://localhost:8080/"
        },
        "id": "kjTMBx140geM",
        "outputId": "52138a57-c89e-4077-cfb1-5695574d0546"
      },
      "source": [
        "data.Revenue.value_counts().plot(kind='pie',autopct='%1.2f',startangle=90,explode =(0.1,0),colors=['slategray','cornflowerblue'])"
      ],
      "execution_count": null,
      "outputs": [
        {
          "output_type": "execute_result",
          "data": {
            "text/plain": [
              "<matplotlib.axes._subplots.AxesSubplot at 0x7f496a555a20>"
            ]
          },
          "metadata": {
            "tags": []
          },
          "execution_count": 273
        },
        {
          "output_type": "display_data",
          "data": {
            "image/png": "[encoded data removed]",
            "text/plain": [
              "<Figure size 432x288 with 1 Axes>"
            ]
          },
          "metadata": {
            "tags": []
          }
        }
      ]
    },
    {
      "cell_type": "markdown",
      "metadata": {
        "id": "atAOb9uu0qZg"
      },
      "source": [
        "### Graph 2 : Correlation"
      ]
    },
    {
      "cell_type": "code",
      "metadata": {
        "colab": {
          "base_uri": "https://localhost:8080/"
        },
        "id": "5pc3j_bF0wMB",
        "outputId": "23e02939-3953-44e6-8acd-5d75f5d95742"
      },
      "source": [
        "corr=data.corr()\r\n",
        "corr.style.background_gradient(cmap='coolwarm').set_precision(2)"
      ],
      "execution_count": null,
      "outputs": [
        {
          "output_type": "execute_result",
          "data": {
            "text/html": [
              "<style  type=\"text/css\" >\n",
              "#T_2c484d08_51d9_11eb_b848_0242ac1c0002row0_col0,#T_2c484d08_51d9_11eb_b848_0242ac1c0002row1_col1,#T_2c484d08_51d9_11eb_b848_0242ac1c0002row2_col2,#T_2c484d08_51d9_11eb_b848_0242ac1c0002row3_col3,#T_2c484d08_51d9_11eb_b848_0242ac1c0002row4_col4,#T_2c484d08_51d9_11eb_b848_0242ac1c0002row5_col5,#T_2c484d08_51d9_11eb_b848_0242ac1c0002row6_col6,#T_2c484d08_51d9_11eb_b848_0242ac1c0002row7_col7,#T_2c484d08_51d9_11eb_b848_0242ac1c0002row8_col8,#T_2c484d08_51d9_11eb_b848_0242ac1c0002row9_col9,#T_2c484d08_51d9_11eb_b848_0242ac1c0002row10_col10,#T_2c484d08_51d9_11eb_b848_0242ac1c0002row11_col11,#T_2c484d08_51d9_11eb_b848_0242ac1c0002row12_col12,#T_2c484d08_51d9_11eb_b848_0242ac1c0002row13_col13,#T_2c484d08_51d9_11eb_b848_0242ac1c0002row14_col14,#T_2c484d08_51d9_11eb_b848_0242ac1c0002row15_col15{\n",
              "            background-color:  #b40426;\n",
              "            color:  #f1f1f1;\n",
              "        }#T_2c484d08_51d9_11eb_b848_0242ac1c0002row0_col1{\n",
              "            background-color:  #f7b79b;\n",
              "            color:  #000000;\n",
              "        }#T_2c484d08_51d9_11eb_b848_0242ac1c0002row0_col2,#T_2c484d08_51d9_11eb_b848_0242ac1c0002row4_col2{\n",
              "            background-color:  #d3dbe7;\n",
              "            color:  #000000;\n",
              "        }#T_2c484d08_51d9_11eb_b848_0242ac1c0002row0_col3{\n",
              "            background-color:  #a7c5fe;\n",
              "            color:  #000000;\n",
              "        }#T_2c484d08_51d9_11eb_b848_0242ac1c0002row0_col4{\n",
              "            background-color:  #ebd3c6;\n",
              "            color:  #000000;\n",
              "        }#T_2c484d08_51d9_11eb_b848_0242ac1c0002row0_col5{\n",
              "            background-color:  #dcdddd;\n",
              "            color:  #000000;\n",
              "        }#T_2c484d08_51d9_11eb_b848_0242ac1c0002row0_col6,#T_2c484d08_51d9_11eb_b848_0242ac1c0002row0_col7,#T_2c484d08_51d9_11eb_b848_0242ac1c0002row0_col9,#T_2c484d08_51d9_11eb_b848_0242ac1c0002row2_col11,#T_2c484d08_51d9_11eb_b848_0242ac1c0002row4_col12,#T_2c484d08_51d9_11eb_b848_0242ac1c0002row4_col13,#T_2c484d08_51d9_11eb_b848_0242ac1c0002row7_col0,#T_2c484d08_51d9_11eb_b848_0242ac1c0002row7_col1,#T_2c484d08_51d9_11eb_b848_0242ac1c0002row7_col2,#T_2c484d08_51d9_11eb_b848_0242ac1c0002row7_col3,#T_2c484d08_51d9_11eb_b848_0242ac1c0002row7_col4,#T_2c484d08_51d9_11eb_b848_0242ac1c0002row7_col5,#T_2c484d08_51d9_11eb_b848_0242ac1c0002row7_col8,#T_2c484d08_51d9_11eb_b848_0242ac1c0002row7_col14,#T_2c484d08_51d9_11eb_b848_0242ac1c0002row7_col15,#T_2c484d08_51d9_11eb_b848_0242ac1c0002row14_col11,#T_2c484d08_51d9_11eb_b848_0242ac1c0002row15_col10{\n",
              "            background-color:  #3b4cc0;\n",
              "            color:  #f1f1f1;\n",
              "        }#T_2c484d08_51d9_11eb_b848_0242ac1c0002row0_col8,#T_2c484d08_51d9_11eb_b848_0242ac1c0002row11_col10,#T_2c484d08_51d9_11eb_b848_0242ac1c0002row12_col7{\n",
              "            background-color:  #86a9fc;\n",
              "            color:  #000000;\n",
              "        }#T_2c484d08_51d9_11eb_b848_0242ac1c0002row0_col10,#T_2c484d08_51d9_11eb_b848_0242ac1c0002row0_col13,#T_2c484d08_51d9_11eb_b848_0242ac1c0002row2_col12,#T_2c484d08_51d9_11eb_b848_0242ac1c0002row2_col13,#T_2c484d08_51d9_11eb_b848_0242ac1c0002row3_col12,#T_2c484d08_51d9_11eb_b848_0242ac1c0002row15_col9{\n",
              "            background-color:  #3d50c3;\n",
              "            color:  #f1f1f1;\n",
              "        }#T_2c484d08_51d9_11eb_b848_0242ac1c0002row0_col11,#T_2c484d08_51d9_11eb_b848_0242ac1c0002row4_col6,#T_2c484d08_51d9_11eb_b848_0242ac1c0002row6_col14,#T_2c484d08_51d9_11eb_b848_0242ac1c0002row14_col10{\n",
              "            background-color:  #3e51c5;\n",
              "            color:  #f1f1f1;\n",
              "        }#T_2c484d08_51d9_11eb_b848_0242ac1c0002row0_col12,#T_2c484d08_51d9_11eb_b848_0242ac1c0002row1_col12,#T_2c484d08_51d9_11eb_b848_0242ac1c0002row5_col6,#T_2c484d08_51d9_11eb_b848_0242ac1c0002row5_col11,#T_2c484d08_51d9_11eb_b848_0242ac1c0002row7_col11,#T_2c484d08_51d9_11eb_b848_0242ac1c0002row8_col10{\n",
              "            background-color:  #445acc;\n",
              "            color:  #f1f1f1;\n",
              "        }#T_2c484d08_51d9_11eb_b848_0242ac1c0002row0_col14,#T_2c484d08_51d9_11eb_b848_0242ac1c0002row1_col7,#T_2c484d08_51d9_11eb_b848_0242ac1c0002row8_col6,#T_2c484d08_51d9_11eb_b848_0242ac1c0002row8_col11,#T_2c484d08_51d9_11eb_b848_0242ac1c0002row13_col12,#T_2c484d08_51d9_11eb_b848_0242ac1c0002row15_col7{\n",
              "            background-color:  #5470de;\n",
              "            color:  #000000;\n",
              "        }#T_2c484d08_51d9_11eb_b848_0242ac1c0002row0_col15{\n",
              "            background-color:  #9abbff;\n",
              "            color:  #000000;\n",
              "        }#T_2c484d08_51d9_11eb_b848_0242ac1c0002row1_col0{\n",
              "            background-color:  #f7ad90;\n",
              "            color:  #000000;\n",
              "        }#T_2c484d08_51d9_11eb_b848_0242ac1c0002row1_col2{\n",
              "            background-color:  #c0d4f5;\n",
              "            color:  #000000;\n",
              "        }#T_2c484d08_51d9_11eb_b848_0242ac1c0002row1_col3{\n",
              "            background-color:  #a2c1ff;\n",
              "            color:  #000000;\n",
              "        }#T_2c484d08_51d9_11eb_b848_0242ac1c0002row1_col4{\n",
              "            background-color:  #cfdaea;\n",
              "            color:  #000000;\n",
              "        }#T_2c484d08_51d9_11eb_b848_0242ac1c0002row1_col5{\n",
              "            background-color:  #d9dce1;\n",
              "            color:  #000000;\n",
              "        }#T_2c484d08_51d9_11eb_b848_0242ac1c0002row1_col6,#T_2c484d08_51d9_11eb_b848_0242ac1c0002row4_col9,#T_2c484d08_51d9_11eb_b848_0242ac1c0002row5_col14{\n",
              "            background-color:  #4e68d8;\n",
              "            color:  #000000;\n",
              "        }#T_2c484d08_51d9_11eb_b848_0242ac1c0002row1_col8,#T_2c484d08_51d9_11eb_b848_0242ac1c0002row10_col5{\n",
              "            background-color:  #7da0f9;\n",
              "            color:  #000000;\n",
              "        }#T_2c484d08_51d9_11eb_b848_0242ac1c0002row1_col9,#T_2c484d08_51d9_11eb_b848_0242ac1c0002row3_col11,#T_2c484d08_51d9_11eb_b848_0242ac1c0002row9_col12,#T_2c484d08_51d9_11eb_b848_0242ac1c0002row11_col14{\n",
              "            background-color:  #4055c8;\n",
              "            color:  #f1f1f1;\n",
              "        }#T_2c484d08_51d9_11eb_b848_0242ac1c0002row1_col10,#T_2c484d08_51d9_11eb_b848_0242ac1c0002row2_col10,#T_2c484d08_51d9_11eb_b848_0242ac1c0002row3_col10,#T_2c484d08_51d9_11eb_b848_0242ac1c0002row5_col12,#T_2c484d08_51d9_11eb_b848_0242ac1c0002row5_col13{\n",
              "            background-color:  #3c4ec2;\n",
              "            color:  #f1f1f1;\n",
              "        }#T_2c484d08_51d9_11eb_b848_0242ac1c0002row1_col11,#T_2c484d08_51d9_11eb_b848_0242ac1c0002row4_col11,#T_2c484d08_51d9_11eb_b848_0242ac1c0002row6_col11,#T_2c484d08_51d9_11eb_b848_0242ac1c0002row9_col10,#T_2c484d08_51d9_11eb_b848_0242ac1c0002row15_col12{\n",
              "            background-color:  #4257c9;\n",
              "            color:  #f1f1f1;\n",
              "        }#T_2c484d08_51d9_11eb_b848_0242ac1c0002row1_col13,#T_2c484d08_51d9_11eb_b848_0242ac1c0002row6_col3,#T_2c484d08_51d9_11eb_b848_0242ac1c0002row6_col12,#T_2c484d08_51d9_11eb_b848_0242ac1c0002row7_col10,#T_2c484d08_51d9_11eb_b848_0242ac1c0002row7_col12,#T_2c484d08_51d9_11eb_b848_0242ac1c0002row8_col9{\n",
              "            background-color:  #4358cb;\n",
              "            color:  #f1f1f1;\n",
              "        }#T_2c484d08_51d9_11eb_b848_0242ac1c0002row1_col14,#T_2c484d08_51d9_11eb_b848_0242ac1c0002row4_col14,#T_2c484d08_51d9_11eb_b848_0242ac1c0002row6_col0,#T_2c484d08_51d9_11eb_b848_0242ac1c0002row12_col3,#T_2c484d08_51d9_11eb_b848_0242ac1c0002row12_col9,#T_2c484d08_51d9_11eb_b848_0242ac1c0002row13_col3,#T_2c484d08_51d9_11eb_b848_0242ac1c0002row14_col9{\n",
              "            background-color:  #506bda;\n",
              "            color:  #000000;\n",
              "        }#T_2c484d08_51d9_11eb_b848_0242ac1c0002row1_col15,#T_2c484d08_51d9_11eb_b848_0242ac1c0002row13_col6,#T_2c484d08_51d9_11eb_b848_0242ac1c0002row15_col1{\n",
              "            background-color:  #8caffe;\n",
              "            color:  #000000;\n",
              "        }#T_2c484d08_51d9_11eb_b848_0242ac1c0002row2_col0,#T_2c484d08_51d9_11eb_b848_0242ac1c0002row5_col0{\n",
              "            background-color:  #e3d9d3;\n",
              "            color:  #000000;\n",
              "        }#T_2c484d08_51d9_11eb_b848_0242ac1c0002row2_col1{\n",
              "            background-color:  #c6d6f1;\n",
              "            color:  #000000;\n",
              "        }#T_2c484d08_51d9_11eb_b848_0242ac1c0002row2_col3{\n",
              "            background-color:  #f7bca1;\n",
              "            color:  #000000;\n",
              "        }#T_2c484d08_51d9_11eb_b848_0242ac1c0002row2_col4{\n",
              "            background-color:  #e1dad6;\n",
              "            color:  #000000;\n",
              "        }#T_2c484d08_51d9_11eb_b848_0242ac1c0002row2_col5{\n",
              "            background-color:  #dfdbd9;\n",
              "            color:  #000000;\n",
              "        }#T_2c484d08_51d9_11eb_b848_0242ac1c0002row2_col6,#T_2c484d08_51d9_11eb_b848_0242ac1c0002row10_col3,#T_2c484d08_51d9_11eb_b848_0242ac1c0002row11_col9,#T_2c484d08_51d9_11eb_b848_0242ac1c0002row12_col13,#T_2c484d08_51d9_11eb_b848_0242ac1c0002row15_col14{\n",
              "            background-color:  #5572df;\n",
              "            color:  #000000;\n",
              "        }#T_2c484d08_51d9_11eb_b848_0242ac1c0002row2_col7,#T_2c484d08_51d9_11eb_b848_0242ac1c0002row6_col13,#T_2c484d08_51d9_11eb_b848_0242ac1c0002row7_col13,#T_2c484d08_51d9_11eb_b848_0242ac1c0002row12_col2,#T_2c484d08_51d9_11eb_b848_0242ac1c0002row14_col3{\n",
              "            background-color:  #5e7de7;\n",
              "            color:  #000000;\n",
              "        }#T_2c484d08_51d9_11eb_b848_0242ac1c0002row2_col8{\n",
              "            background-color:  #779af7;\n",
              "            color:  #000000;\n",
              "        }#T_2c484d08_51d9_11eb_b848_0242ac1c0002row2_col9,#T_2c484d08_51d9_11eb_b848_0242ac1c0002row6_col2,#T_2c484d08_51d9_11eb_b848_0242ac1c0002row9_col11,#T_2c484d08_51d9_11eb_b848_0242ac1c0002row14_col13{\n",
              "            background-color:  #465ecf;\n",
              "            color:  #f1f1f1;\n",
              "        }#T_2c484d08_51d9_11eb_b848_0242ac1c0002row2_col14,#T_2c484d08_51d9_11eb_b848_0242ac1c0002row9_col13,#T_2c484d08_51d9_11eb_b848_0242ac1c0002row12_col10{\n",
              "            background-color:  #5673e0;\n",
              "            color:  #000000;\n",
              "        }#T_2c484d08_51d9_11eb_b848_0242ac1c0002row2_col15,#T_2c484d08_51d9_11eb_b848_0242ac1c0002row10_col7,#T_2c484d08_51d9_11eb_b848_0242ac1c0002row10_col11{\n",
              "            background-color:  #8db0fe;\n",
              "            color:  #000000;\n",
              "        }#T_2c484d08_51d9_11eb_b848_0242ac1c0002row3_col0{\n",
              "            background-color:  #cbd8ee;\n",
              "            color:  #000000;\n",
              "        }#T_2c484d08_51d9_11eb_b848_0242ac1c0002row3_col1{\n",
              "            background-color:  #b6cefa;\n",
              "            color:  #000000;\n",
              "        }#T_2c484d08_51d9_11eb_b848_0242ac1c0002row3_col2{\n",
              "            background-color:  #f7b599;\n",
              "            color:  #000000;\n",
              "        }#T_2c484d08_51d9_11eb_b848_0242ac1c0002row3_col4{\n",
              "            background-color:  #cdd9ec;\n",
              "            color:  #000000;\n",
              "        }#T_2c484d08_51d9_11eb_b848_0242ac1c0002row3_col5{\n",
              "            background-color:  #d7dce3;\n",
              "            color:  #000000;\n",
              "        }#T_2c484d08_51d9_11eb_b848_0242ac1c0002row3_col6,#T_2c484d08_51d9_11eb_b848_0242ac1c0002row8_col3{\n",
              "            background-color:  #6180e9;\n",
              "            color:  #000000;\n",
              "        }#T_2c484d08_51d9_11eb_b848_0242ac1c0002row3_col7,#T_2c484d08_51d9_11eb_b848_0242ac1c0002row12_col15{\n",
              "            background-color:  #6e90f2;\n",
              "            color:  #000000;\n",
              "        }#T_2c484d08_51d9_11eb_b848_0242ac1c0002row3_col8,#T_2c484d08_51d9_11eb_b848_0242ac1c0002row9_col5,#T_2c484d08_51d9_11eb_b848_0242ac1c0002row12_col5,#T_2c484d08_51d9_11eb_b848_0242ac1c0002row13_col5{\n",
              "            background-color:  #7295f4;\n",
              "            color:  #000000;\n",
              "        }#T_2c484d08_51d9_11eb_b848_0242ac1c0002row3_col9,#T_2c484d08_51d9_11eb_b848_0242ac1c0002row10_col14,#T_2c484d08_51d9_11eb_b848_0242ac1c0002row15_col6,#T_2c484d08_51d9_11eb_b848_0242ac1c0002row15_col11{\n",
              "            background-color:  #4c66d6;\n",
              "            color:  #000000;\n",
              "        }#T_2c484d08_51d9_11eb_b848_0242ac1c0002row3_col13,#T_2c484d08_51d9_11eb_b848_0242ac1c0002row4_col7,#T_2c484d08_51d9_11eb_b848_0242ac1c0002row4_col10,#T_2c484d08_51d9_11eb_b848_0242ac1c0002row5_col10{\n",
              "            background-color:  #3f53c6;\n",
              "            color:  #f1f1f1;\n",
              "        }#T_2c484d08_51d9_11eb_b848_0242ac1c0002row3_col14{\n",
              "            background-color:  #536edd;\n",
              "            color:  #000000;\n",
              "        }#T_2c484d08_51d9_11eb_b848_0242ac1c0002row3_col15,#T_2c484d08_51d9_11eb_b848_0242ac1c0002row8_col1,#T_2c484d08_51d9_11eb_b848_0242ac1c0002row10_col4{\n",
              "            background-color:  #85a8fc;\n",
              "            color:  #000000;\n",
              "        }#T_2c484d08_51d9_11eb_b848_0242ac1c0002row4_col0,#T_2c484d08_51d9_11eb_b848_0242ac1c0002row15_col8{\n",
              "            background-color:  #edd2c3;\n",
              "            color:  #000000;\n",
              "        }#T_2c484d08_51d9_11eb_b848_0242ac1c0002row4_col1{\n",
              "            background-color:  #c4d5f3;\n",
              "            color:  #000000;\n",
              "        }#T_2c484d08_51d9_11eb_b848_0242ac1c0002row4_col3,#T_2c484d08_51d9_11eb_b848_0242ac1c0002row15_col4{\n",
              "            background-color:  #afcafc;\n",
              "            color:  #000000;\n",
              "        }#T_2c484d08_51d9_11eb_b848_0242ac1c0002row4_col5{\n",
              "            background-color:  #d95847;\n",
              "            color:  #000000;\n",
              "        }#T_2c484d08_51d9_11eb_b848_0242ac1c0002row4_col8,#T_2c484d08_51d9_11eb_b848_0242ac1c0002row11_col5,#T_2c484d08_51d9_11eb_b848_0242ac1c0002row12_col4,#T_2c484d08_51d9_11eb_b848_0242ac1c0002row14_col15{\n",
              "            background-color:  #7a9df8;\n",
              "            color:  #000000;\n",
              "        }#T_2c484d08_51d9_11eb_b848_0242ac1c0002row4_col15{\n",
              "            background-color:  #9fbfff;\n",
              "            color:  #000000;\n",
              "        }#T_2c484d08_51d9_11eb_b848_0242ac1c0002row5_col1{\n",
              "            background-color:  #d4dbe6;\n",
              "            color:  #000000;\n",
              "        }#T_2c484d08_51d9_11eb_b848_0242ac1c0002row5_col2{\n",
              "            background-color:  #d6dce4;\n",
              "            color:  #000000;\n",
              "        }#T_2c484d08_51d9_11eb_b848_0242ac1c0002row5_col3{\n",
              "            background-color:  #c3d5f4;\n",
              "            color:  #000000;\n",
              "        }#T_2c484d08_51d9_11eb_b848_0242ac1c0002row5_col4{\n",
              "            background-color:  #d85646;\n",
              "            color:  #000000;\n",
              "        }#T_2c484d08_51d9_11eb_b848_0242ac1c0002row5_col7,#T_2c484d08_51d9_11eb_b848_0242ac1c0002row6_col8,#T_2c484d08_51d9_11eb_b848_0242ac1c0002row8_col12{\n",
              "            background-color:  #4961d2;\n",
              "            color:  #f1f1f1;\n",
              "        }#T_2c484d08_51d9_11eb_b848_0242ac1c0002row5_col8,#T_2c484d08_51d9_11eb_b848_0242ac1c0002row11_col15,#T_2c484d08_51d9_11eb_b848_0242ac1c0002row13_col4,#T_2c484d08_51d9_11eb_b848_0242ac1c0002row14_col7{\n",
              "            background-color:  #799cf8;\n",
              "            color:  #000000;\n",
              "        }#T_2c484d08_51d9_11eb_b848_0242ac1c0002row5_col9,#T_2c484d08_51d9_11eb_b848_0242ac1c0002row6_col1,#T_2c484d08_51d9_11eb_b848_0242ac1c0002row6_col5,#T_2c484d08_51d9_11eb_b848_0242ac1c0002row8_col13{\n",
              "            background-color:  #4a63d3;\n",
              "            color:  #f1f1f1;\n",
              "        }#T_2c484d08_51d9_11eb_b848_0242ac1c0002row5_col15,#T_2c484d08_51d9_11eb_b848_0242ac1c0002row13_col7{\n",
              "            background-color:  #9ebeff;\n",
              "            color:  #000000;\n",
              "        }#T_2c484d08_51d9_11eb_b848_0242ac1c0002row6_col4,#T_2c484d08_51d9_11eb_b848_0242ac1c0002row8_col14,#T_2c484d08_51d9_11eb_b848_0242ac1c0002row9_col3{\n",
              "            background-color:  #4f69d9;\n",
              "            color:  #000000;\n",
              "        }#T_2c484d08_51d9_11eb_b848_0242ac1c0002row6_col7{\n",
              "            background-color:  #cb3e38;\n",
              "            color:  #f1f1f1;\n",
              "        }#T_2c484d08_51d9_11eb_b848_0242ac1c0002row6_col9{\n",
              "            background-color:  #6b8df0;\n",
              "            color:  #000000;\n",
              "        }#T_2c484d08_51d9_11eb_b848_0242ac1c0002row6_col10,#T_2c484d08_51d9_11eb_b848_0242ac1c0002row14_col12,#T_2c484d08_51d9_11eb_b848_0242ac1c0002row15_col13{\n",
              "            background-color:  #455cce;\n",
              "            color:  #f1f1f1;\n",
              "        }#T_2c484d08_51d9_11eb_b848_0242ac1c0002row6_col15,#T_2c484d08_51d9_11eb_b848_0242ac1c0002row9_col14{\n",
              "            background-color:  #485fd1;\n",
              "            color:  #f1f1f1;\n",
              "        }#T_2c484d08_51d9_11eb_b848_0242ac1c0002row7_col6{\n",
              "            background-color:  #cd423b;\n",
              "            color:  #f1f1f1;\n",
              "        }#T_2c484d08_51d9_11eb_b848_0242ac1c0002row7_col9,#T_2c484d08_51d9_11eb_b848_0242ac1c0002row8_col2,#T_2c484d08_51d9_11eb_b848_0242ac1c0002row14_col1{\n",
              "            background-color:  #7597f6;\n",
              "            color:  #000000;\n",
              "        }#T_2c484d08_51d9_11eb_b848_0242ac1c0002row8_col0{\n",
              "            background-color:  #a3c2fe;\n",
              "            color:  #000000;\n",
              "        }#T_2c484d08_51d9_11eb_b848_0242ac1c0002row8_col4{\n",
              "            background-color:  #94b6ff;\n",
              "            color:  #000000;\n",
              "        }#T_2c484d08_51d9_11eb_b848_0242ac1c0002row8_col5{\n",
              "            background-color:  #8badfd;\n",
              "            color:  #000000;\n",
              "        }#T_2c484d08_51d9_11eb_b848_0242ac1c0002row8_col7,#T_2c484d08_51d9_11eb_b848_0242ac1c0002row11_col2{\n",
              "            background-color:  #5b7ae5;\n",
              "            color:  #000000;\n",
              "        }#T_2c484d08_51d9_11eb_b848_0242ac1c0002row8_col15{\n",
              "            background-color:  #efcfbf;\n",
              "            color:  #000000;\n",
              "        }#T_2c484d08_51d9_11eb_b848_0242ac1c0002row9_col0,#T_2c484d08_51d9_11eb_b848_0242ac1c0002row11_col6,#T_2c484d08_51d9_11eb_b848_0242ac1c0002row14_col2{\n",
              "            background-color:  #7093f3;\n",
              "            color:  #000000;\n",
              "        }#T_2c484d08_51d9_11eb_b848_0242ac1c0002row9_col1,#T_2c484d08_51d9_11eb_b848_0242ac1c0002row10_col12,#T_2c484d08_51d9_11eb_b848_0242ac1c0002row13_col2{\n",
              "            background-color:  #5d7ce6;\n",
              "            color:  #000000;\n",
              "        }#T_2c484d08_51d9_11eb_b848_0242ac1c0002row9_col2,#T_2c484d08_51d9_11eb_b848_0242ac1c0002row10_col9{\n",
              "            background-color:  #5977e3;\n",
              "            color:  #000000;\n",
              "        }#T_2c484d08_51d9_11eb_b848_0242ac1c0002row9_col4,#T_2c484d08_51d9_11eb_b848_0242ac1c0002row14_col5{\n",
              "            background-color:  #7ea1fa;\n",
              "            color:  #000000;\n",
              "        }#T_2c484d08_51d9_11eb_b848_0242ac1c0002row9_col6,#T_2c484d08_51d9_11eb_b848_0242ac1c0002row14_col4{\n",
              "            background-color:  #89acfd;\n",
              "            color:  #000000;\n",
              "        }#T_2c484d08_51d9_11eb_b848_0242ac1c0002row9_col7{\n",
              "            background-color:  #a5c3fe;\n",
              "            color:  #000000;\n",
              "        }#T_2c484d08_51d9_11eb_b848_0242ac1c0002row9_col8{\n",
              "            background-color:  #5875e1;\n",
              "            color:  #000000;\n",
              "        }#T_2c484d08_51d9_11eb_b848_0242ac1c0002row9_col15{\n",
              "            background-color:  #5a78e4;\n",
              "            color:  #000000;\n",
              "        }#T_2c484d08_51d9_11eb_b848_0242ac1c0002row10_col0,#T_2c484d08_51d9_11eb_b848_0242ac1c0002row11_col7,#T_2c484d08_51d9_11eb_b848_0242ac1c0002row12_col0{\n",
              "            background-color:  #88abfd;\n",
              "            color:  #000000;\n",
              "        }#T_2c484d08_51d9_11eb_b848_0242ac1c0002row10_col1,#T_2c484d08_51d9_11eb_b848_0242ac1c0002row10_col8,#T_2c484d08_51d9_11eb_b848_0242ac1c0002row12_col1,#T_2c484d08_51d9_11eb_b848_0242ac1c0002row13_col15{\n",
              "            background-color:  #6f92f3;\n",
              "            color:  #000000;\n",
              "        }#T_2c484d08_51d9_11eb_b848_0242ac1c0002row10_col2,#T_2c484d08_51d9_11eb_b848_0242ac1c0002row11_col12,#T_2c484d08_51d9_11eb_b848_0242ac1c0002row12_col11{\n",
              "            background-color:  #6384eb;\n",
              "            color:  #000000;\n",
              "        }#T_2c484d08_51d9_11eb_b848_0242ac1c0002row10_col6,#T_2c484d08_51d9_11eb_b848_0242ac1c0002row13_col10{\n",
              "            background-color:  #7b9ff9;\n",
              "            color:  #000000;\n",
              "        }#T_2c484d08_51d9_11eb_b848_0242ac1c0002row10_col13,#T_2c484d08_51d9_11eb_b848_0242ac1c0002row11_col0,#T_2c484d08_51d9_11eb_b848_0242ac1c0002row15_col2{\n",
              "            background-color:  #82a6fb;\n",
              "            color:  #000000;\n",
              "        }#T_2c484d08_51d9_11eb_b848_0242ac1c0002row10_col15,#T_2c484d08_51d9_11eb_b848_0242ac1c0002row11_col1,#T_2c484d08_51d9_11eb_b848_0242ac1c0002row12_col8,#T_2c484d08_51d9_11eb_b848_0242ac1c0002row13_col1,#T_2c484d08_51d9_11eb_b848_0242ac1c0002row13_col8,#T_2c484d08_51d9_11eb_b848_0242ac1c0002row14_col8,#T_2c484d08_51d9_11eb_b848_0242ac1c0002row15_col3{\n",
              "            background-color:  #6c8ff1;\n",
              "            color:  #000000;\n",
              "        }#T_2c484d08_51d9_11eb_b848_0242ac1c0002row11_col3{\n",
              "            background-color:  #516ddb;\n",
              "            color:  #000000;\n",
              "        }#T_2c484d08_51d9_11eb_b848_0242ac1c0002row11_col4,#T_2c484d08_51d9_11eb_b848_0242ac1c0002row13_col0{\n",
              "            background-color:  #81a4fb;\n",
              "            color:  #000000;\n",
              "        }#T_2c484d08_51d9_11eb_b848_0242ac1c0002row11_col8{\n",
              "            background-color:  #7699f6;\n",
              "            color:  #000000;\n",
              "        }#T_2c484d08_51d9_11eb_b848_0242ac1c0002row11_col13{\n",
              "            background-color:  #6a8bef;\n",
              "            color:  #000000;\n",
              "        }#T_2c484d08_51d9_11eb_b848_0242ac1c0002row12_col6{\n",
              "            background-color:  #7396f5;\n",
              "            color:  #000000;\n",
              "        }#T_2c484d08_51d9_11eb_b848_0242ac1c0002row12_col14,#T_2c484d08_51d9_11eb_b848_0242ac1c0002row13_col14{\n",
              "            background-color:  #4b64d5;\n",
              "            color:  #f1f1f1;\n",
              "        }#T_2c484d08_51d9_11eb_b848_0242ac1c0002row13_col9{\n",
              "            background-color:  #6485ec;\n",
              "            color:  #000000;\n",
              "        }#T_2c484d08_51d9_11eb_b848_0242ac1c0002row13_col11,#T_2c484d08_51d9_11eb_b848_0242ac1c0002row14_col6{\n",
              "            background-color:  #688aef;\n",
              "            color:  #000000;\n",
              "        }#T_2c484d08_51d9_11eb_b848_0242ac1c0002row14_col0{\n",
              "            background-color:  #90b2fe;\n",
              "            color:  #000000;\n",
              "        }#T_2c484d08_51d9_11eb_b848_0242ac1c0002row15_col0{\n",
              "            background-color:  #aec9fc;\n",
              "            color:  #000000;\n",
              "        }#T_2c484d08_51d9_11eb_b848_0242ac1c0002row15_col5{\n",
              "            background-color:  #a6c4fe;\n",
              "            color:  #000000;\n",
              "        }</style><table id=\"T_2c484d08_51d9_11eb_b848_0242ac1c0002\" ><thead>    <tr>        <th class=\"blank level0\" ></th>        <th class=\"col_heading level0 col0\" >Administrative</th>        <th class=\"col_heading level0 col1\" >Administrative_Duration</th>        <th class=\"col_heading level0 col2\" >Informational</th>        <th class=\"col_heading level0 col3\" >Informational_Duration</th>        <th class=\"col_heading level0 col4\" >ProductRelated</th>        <th class=\"col_heading level0 col5\" >ProductRelated_Duration</th>        <th class=\"col_heading level0 col6\" >BounceRates</th>        <th class=\"col_heading level0 col7\" >ExitRates</th>        <th class=\"col_heading level0 col8\" >PageValues</th>        <th class=\"col_heading level0 col9\" >SpecialDay</th>        <th class=\"col_heading level0 col10\" >OperatingSystems</th>        <th class=\"col_heading level0 col11\" >Browser</th>        <th class=\"col_heading level0 col12\" >Region</th>        <th class=\"col_heading level0 col13\" >TrafficType</th>        <th class=\"col_heading level0 col14\" >Weekend</th>        <th class=\"col_heading level0 col15\" >Revenue</th>    </tr></thead><tbody>\n",
              "                <tr>\n",
              "                        <th id=\"T_2c484d08_51d9_11eb_b848_0242ac1c0002level0_row0\" class=\"row_heading level0 row0\" >Administrative</th>\n",
              "                        <td id=\"T_2c484d08_51d9_11eb_b848_0242ac1c0002row0_col0\" class=\"data row0 col0\" >1.00</td>\n",
              "                        <td id=\"T_2c484d08_51d9_11eb_b848_0242ac1c0002row0_col1\" class=\"data row0 col1\" >0.60</td>\n",
              "                        <td id=\"T_2c484d08_51d9_11eb_b848_0242ac1c0002row0_col2\" class=\"data row0 col2\" >0.38</td>\n",
              "                        <td id=\"T_2c484d08_51d9_11eb_b848_0242ac1c0002row0_col3\" class=\"data row0 col3\" >0.26</td>\n",
              "                        <td id=\"T_2c484d08_51d9_11eb_b848_0242ac1c0002row0_col4\" class=\"data row0 col4\" >0.43</td>\n",
              "                        <td id=\"T_2c484d08_51d9_11eb_b848_0242ac1c0002row0_col5\" class=\"data row0 col5\" >0.37</td>\n",
              "                        <td id=\"T_2c484d08_51d9_11eb_b848_0242ac1c0002row0_col6\" class=\"data row0 col6\" >-0.22</td>\n",
              "                        <td id=\"T_2c484d08_51d9_11eb_b848_0242ac1c0002row0_col7\" class=\"data row0 col7\" >-0.32</td>\n",
              "                        <td id=\"T_2c484d08_51d9_11eb_b848_0242ac1c0002row0_col8\" class=\"data row0 col8\" >0.10</td>\n",
              "                        <td id=\"T_2c484d08_51d9_11eb_b848_0242ac1c0002row0_col9\" class=\"data row0 col9\" >-0.09</td>\n",
              "                        <td id=\"T_2c484d08_51d9_11eb_b848_0242ac1c0002row0_col10\" class=\"data row0 col10\" >-0.01</td>\n",
              "                        <td id=\"T_2c484d08_51d9_11eb_b848_0242ac1c0002row0_col11\" class=\"data row0 col11\" >-0.03</td>\n",
              "                        <td id=\"T_2c484d08_51d9_11eb_b848_0242ac1c0002row0_col12\" class=\"data row0 col12\" >-0.01</td>\n",
              "                        <td id=\"T_2c484d08_51d9_11eb_b848_0242ac1c0002row0_col13\" class=\"data row0 col13\" >-0.03</td>\n",
              "                        <td id=\"T_2c484d08_51d9_11eb_b848_0242ac1c0002row0_col14\" class=\"data row0 col14\" >0.03</td>\n",
              "                        <td id=\"T_2c484d08_51d9_11eb_b848_0242ac1c0002row0_col15\" class=\"data row0 col15\" >0.14</td>\n",
              "            </tr>\n",
              "            <tr>\n",
              "                        <th id=\"T_2c484d08_51d9_11eb_b848_0242ac1c0002level0_row1\" class=\"row_heading level0 row1\" >Administrative_Duration</th>\n",
              "                        <td id=\"T_2c484d08_51d9_11eb_b848_0242ac1c0002row1_col0\" class=\"data row1 col0\" >0.60</td>\n",
              "                        <td id=\"T_2c484d08_51d9_11eb_b848_0242ac1c0002row1_col1\" class=\"data row1 col1\" >1.00</td>\n",
              "                        <td id=\"T_2c484d08_51d9_11eb_b848_0242ac1c0002row1_col2\" class=\"data row1 col2\" >0.30</td>\n",
              "                        <td id=\"T_2c484d08_51d9_11eb_b848_0242ac1c0002row1_col3\" class=\"data row1 col3\" >0.24</td>\n",
              "                        <td id=\"T_2c484d08_51d9_11eb_b848_0242ac1c0002row1_col4\" class=\"data row1 col4\" >0.29</td>\n",
              "                        <td id=\"T_2c484d08_51d9_11eb_b848_0242ac1c0002row1_col5\" class=\"data row1 col5\" >0.36</td>\n",
              "                        <td id=\"T_2c484d08_51d9_11eb_b848_0242ac1c0002row1_col6\" class=\"data row1 col6\" >-0.14</td>\n",
              "                        <td id=\"T_2c484d08_51d9_11eb_b848_0242ac1c0002row1_col7\" class=\"data row1 col7\" >-0.21</td>\n",
              "                        <td id=\"T_2c484d08_51d9_11eb_b848_0242ac1c0002row1_col8\" class=\"data row1 col8\" >0.07</td>\n",
              "                        <td id=\"T_2c484d08_51d9_11eb_b848_0242ac1c0002row1_col9\" class=\"data row1 col9\" >-0.07</td>\n",
              "                        <td id=\"T_2c484d08_51d9_11eb_b848_0242ac1c0002row1_col10\" class=\"data row1 col10\" >-0.01</td>\n",
              "                        <td id=\"T_2c484d08_51d9_11eb_b848_0242ac1c0002row1_col11\" class=\"data row1 col11\" >-0.02</td>\n",
              "                        <td id=\"T_2c484d08_51d9_11eb_b848_0242ac1c0002row1_col12\" class=\"data row1 col12\" >-0.01</td>\n",
              "                        <td id=\"T_2c484d08_51d9_11eb_b848_0242ac1c0002row1_col13\" class=\"data row1 col13\" >-0.01</td>\n",
              "                        <td id=\"T_2c484d08_51d9_11eb_b848_0242ac1c0002row1_col14\" class=\"data row1 col14\" >0.01</td>\n",
              "                        <td id=\"T_2c484d08_51d9_11eb_b848_0242ac1c0002row1_col15\" class=\"data row1 col15\" >0.09</td>\n",
              "            </tr>\n",
              "            <tr>\n",
              "                        <th id=\"T_2c484d08_51d9_11eb_b848_0242ac1c0002level0_row2\" class=\"row_heading level0 row2\" >Informational</th>\n",
              "                        <td id=\"T_2c484d08_51d9_11eb_b848_0242ac1c0002row2_col0\" class=\"data row2 col0\" >0.38</td>\n",
              "                        <td id=\"T_2c484d08_51d9_11eb_b848_0242ac1c0002row2_col1\" class=\"data row2 col1\" >0.30</td>\n",
              "                        <td id=\"T_2c484d08_51d9_11eb_b848_0242ac1c0002row2_col2\" class=\"data row2 col2\" >1.00</td>\n",
              "                        <td id=\"T_2c484d08_51d9_11eb_b848_0242ac1c0002row2_col3\" class=\"data row2 col3\" >0.62</td>\n",
              "                        <td id=\"T_2c484d08_51d9_11eb_b848_0242ac1c0002row2_col4\" class=\"data row2 col4\" >0.37</td>\n",
              "                        <td id=\"T_2c484d08_51d9_11eb_b848_0242ac1c0002row2_col5\" class=\"data row2 col5\" >0.39</td>\n",
              "                        <td id=\"T_2c484d08_51d9_11eb_b848_0242ac1c0002row2_col6\" class=\"data row2 col6\" >-0.12</td>\n",
              "                        <td id=\"T_2c484d08_51d9_11eb_b848_0242ac1c0002row2_col7\" class=\"data row2 col7\" >-0.16</td>\n",
              "                        <td id=\"T_2c484d08_51d9_11eb_b848_0242ac1c0002row2_col8\" class=\"data row2 col8\" >0.05</td>\n",
              "                        <td id=\"T_2c484d08_51d9_11eb_b848_0242ac1c0002row2_col9\" class=\"data row2 col9\" >-0.05</td>\n",
              "                        <td id=\"T_2c484d08_51d9_11eb_b848_0242ac1c0002row2_col10\" class=\"data row2 col10\" >-0.01</td>\n",
              "                        <td id=\"T_2c484d08_51d9_11eb_b848_0242ac1c0002row2_col11\" class=\"data row2 col11\" >-0.04</td>\n",
              "                        <td id=\"T_2c484d08_51d9_11eb_b848_0242ac1c0002row2_col12\" class=\"data row2 col12\" >-0.03</td>\n",
              "                        <td id=\"T_2c484d08_51d9_11eb_b848_0242ac1c0002row2_col13\" class=\"data row2 col13\" >-0.03</td>\n",
              "                        <td id=\"T_2c484d08_51d9_11eb_b848_0242ac1c0002row2_col14\" class=\"data row2 col14\" >0.04</td>\n",
              "                        <td id=\"T_2c484d08_51d9_11eb_b848_0242ac1c0002row2_col15\" class=\"data row2 col15\" >0.10</td>\n",
              "            </tr>\n",
              "            <tr>\n",
              "                        <th id=\"T_2c484d08_51d9_11eb_b848_0242ac1c0002level0_row3\" class=\"row_heading level0 row3\" >Informational_Duration</th>\n",
              "                        <td id=\"T_2c484d08_51d9_11eb_b848_0242ac1c0002row3_col0\" class=\"data row3 col0\" >0.26</td>\n",
              "                        <td id=\"T_2c484d08_51d9_11eb_b848_0242ac1c0002row3_col1\" class=\"data row3 col1\" >0.24</td>\n",
              "                        <td id=\"T_2c484d08_51d9_11eb_b848_0242ac1c0002row3_col2\" class=\"data row3 col2\" >0.62</td>\n",
              "                        <td id=\"T_2c484d08_51d9_11eb_b848_0242ac1c0002row3_col3\" class=\"data row3 col3\" >1.00</td>\n",
              "                        <td id=\"T_2c484d08_51d9_11eb_b848_0242ac1c0002row3_col4\" class=\"data row3 col4\" >0.28</td>\n",
              "                        <td id=\"T_2c484d08_51d9_11eb_b848_0242ac1c0002row3_col5\" class=\"data row3 col5\" >0.35</td>\n",
              "                        <td id=\"T_2c484d08_51d9_11eb_b848_0242ac1c0002row3_col6\" class=\"data row3 col6\" >-0.07</td>\n",
              "                        <td id=\"T_2c484d08_51d9_11eb_b848_0242ac1c0002row3_col7\" class=\"data row3 col7\" >-0.11</td>\n",
              "                        <td id=\"T_2c484d08_51d9_11eb_b848_0242ac1c0002row3_col8\" class=\"data row3 col8\" >0.03</td>\n",
              "                        <td id=\"T_2c484d08_51d9_11eb_b848_0242ac1c0002row3_col9\" class=\"data row3 col9\" >-0.03</td>\n",
              "                        <td id=\"T_2c484d08_51d9_11eb_b848_0242ac1c0002row3_col10\" class=\"data row3 col10\" >-0.01</td>\n",
              "                        <td id=\"T_2c484d08_51d9_11eb_b848_0242ac1c0002row3_col11\" class=\"data row3 col11\" >-0.02</td>\n",
              "                        <td id=\"T_2c484d08_51d9_11eb_b848_0242ac1c0002row3_col12\" class=\"data row3 col12\" >-0.03</td>\n",
              "                        <td id=\"T_2c484d08_51d9_11eb_b848_0242ac1c0002row3_col13\" class=\"data row3 col13\" >-0.02</td>\n",
              "                        <td id=\"T_2c484d08_51d9_11eb_b848_0242ac1c0002row3_col14\" class=\"data row3 col14\" >0.02</td>\n",
              "                        <td id=\"T_2c484d08_51d9_11eb_b848_0242ac1c0002row3_col15\" class=\"data row3 col15\" >0.07</td>\n",
              "            </tr>\n",
              "            <tr>\n",
              "                        <th id=\"T_2c484d08_51d9_11eb_b848_0242ac1c0002level0_row4\" class=\"row_heading level0 row4\" >ProductRelated</th>\n",
              "                        <td id=\"T_2c484d08_51d9_11eb_b848_0242ac1c0002row4_col0\" class=\"data row4 col0\" >0.43</td>\n",
              "                        <td id=\"T_2c484d08_51d9_11eb_b848_0242ac1c0002row4_col1\" class=\"data row4 col1\" >0.29</td>\n",
              "                        <td id=\"T_2c484d08_51d9_11eb_b848_0242ac1c0002row4_col2\" class=\"data row4 col2\" >0.37</td>\n",
              "                        <td id=\"T_2c484d08_51d9_11eb_b848_0242ac1c0002row4_col3\" class=\"data row4 col3\" >0.28</td>\n",
              "                        <td id=\"T_2c484d08_51d9_11eb_b848_0242ac1c0002row4_col4\" class=\"data row4 col4\" >1.00</td>\n",
              "                        <td id=\"T_2c484d08_51d9_11eb_b848_0242ac1c0002row4_col5\" class=\"data row4 col5\" >0.86</td>\n",
              "                        <td id=\"T_2c484d08_51d9_11eb_b848_0242ac1c0002row4_col6\" class=\"data row4 col6\" >-0.20</td>\n",
              "                        <td id=\"T_2c484d08_51d9_11eb_b848_0242ac1c0002row4_col7\" class=\"data row4 col7\" >-0.29</td>\n",
              "                        <td id=\"T_2c484d08_51d9_11eb_b848_0242ac1c0002row4_col8\" class=\"data row4 col8\" >0.06</td>\n",
              "                        <td id=\"T_2c484d08_51d9_11eb_b848_0242ac1c0002row4_col9\" class=\"data row4 col9\" >-0.02</td>\n",
              "                        <td id=\"T_2c484d08_51d9_11eb_b848_0242ac1c0002row4_col10\" class=\"data row4 col10\" >0.00</td>\n",
              "                        <td id=\"T_2c484d08_51d9_11eb_b848_0242ac1c0002row4_col11\" class=\"data row4 col11\" >-0.01</td>\n",
              "                        <td id=\"T_2c484d08_51d9_11eb_b848_0242ac1c0002row4_col12\" class=\"data row4 col12\" >-0.04</td>\n",
              "                        <td id=\"T_2c484d08_51d9_11eb_b848_0242ac1c0002row4_col13\" class=\"data row4 col13\" >-0.04</td>\n",
              "                        <td id=\"T_2c484d08_51d9_11eb_b848_0242ac1c0002row4_col14\" class=\"data row4 col14\" >0.02</td>\n",
              "                        <td id=\"T_2c484d08_51d9_11eb_b848_0242ac1c0002row4_col15\" class=\"data row4 col15\" >0.16</td>\n",
              "            </tr>\n",
              "            <tr>\n",
              "                        <th id=\"T_2c484d08_51d9_11eb_b848_0242ac1c0002level0_row5\" class=\"row_heading level0 row5\" >ProductRelated_Duration</th>\n",
              "                        <td id=\"T_2c484d08_51d9_11eb_b848_0242ac1c0002row5_col0\" class=\"data row5 col0\" >0.37</td>\n",
              "                        <td id=\"T_2c484d08_51d9_11eb_b848_0242ac1c0002row5_col1\" class=\"data row5 col1\" >0.36</td>\n",
              "                        <td id=\"T_2c484d08_51d9_11eb_b848_0242ac1c0002row5_col2\" class=\"data row5 col2\" >0.39</td>\n",
              "                        <td id=\"T_2c484d08_51d9_11eb_b848_0242ac1c0002row5_col3\" class=\"data row5 col3\" >0.35</td>\n",
              "                        <td id=\"T_2c484d08_51d9_11eb_b848_0242ac1c0002row5_col4\" class=\"data row5 col4\" >0.86</td>\n",
              "                        <td id=\"T_2c484d08_51d9_11eb_b848_0242ac1c0002row5_col5\" class=\"data row5 col5\" >1.00</td>\n",
              "                        <td id=\"T_2c484d08_51d9_11eb_b848_0242ac1c0002row5_col6\" class=\"data row5 col6\" >-0.18</td>\n",
              "                        <td id=\"T_2c484d08_51d9_11eb_b848_0242ac1c0002row5_col7\" class=\"data row5 col7\" >-0.25</td>\n",
              "                        <td id=\"T_2c484d08_51d9_11eb_b848_0242ac1c0002row5_col8\" class=\"data row5 col8\" >0.05</td>\n",
              "                        <td id=\"T_2c484d08_51d9_11eb_b848_0242ac1c0002row5_col9\" class=\"data row5 col9\" >-0.04</td>\n",
              "                        <td id=\"T_2c484d08_51d9_11eb_b848_0242ac1c0002row5_col10\" class=\"data row5 col10\" >0.00</td>\n",
              "                        <td id=\"T_2c484d08_51d9_11eb_b848_0242ac1c0002row5_col11\" class=\"data row5 col11\" >-0.01</td>\n",
              "                        <td id=\"T_2c484d08_51d9_11eb_b848_0242ac1c0002row5_col12\" class=\"data row5 col12\" >-0.03</td>\n",
              "                        <td id=\"T_2c484d08_51d9_11eb_b848_0242ac1c0002row5_col13\" class=\"data row5 col13\" >-0.04</td>\n",
              "                        <td id=\"T_2c484d08_51d9_11eb_b848_0242ac1c0002row5_col14\" class=\"data row5 col14\" >0.01</td>\n",
              "                        <td id=\"T_2c484d08_51d9_11eb_b848_0242ac1c0002row5_col15\" class=\"data row5 col15\" >0.15</td>\n",
              "            </tr>\n",
              "            <tr>\n",
              "                        <th id=\"T_2c484d08_51d9_11eb_b848_0242ac1c0002level0_row6\" class=\"row_heading level0 row6\" >BounceRates</th>\n",
              "                        <td id=\"T_2c484d08_51d9_11eb_b848_0242ac1c0002row6_col0\" class=\"data row6 col0\" >-0.22</td>\n",
              "                        <td id=\"T_2c484d08_51d9_11eb_b848_0242ac1c0002row6_col1\" class=\"data row6 col1\" >-0.14</td>\n",
              "                        <td id=\"T_2c484d08_51d9_11eb_b848_0242ac1c0002row6_col2\" class=\"data row6 col2\" >-0.12</td>\n",
              "                        <td id=\"T_2c484d08_51d9_11eb_b848_0242ac1c0002row6_col3\" class=\"data row6 col3\" >-0.07</td>\n",
              "                        <td id=\"T_2c484d08_51d9_11eb_b848_0242ac1c0002row6_col4\" class=\"data row6 col4\" >-0.20</td>\n",
              "                        <td id=\"T_2c484d08_51d9_11eb_b848_0242ac1c0002row6_col5\" class=\"data row6 col5\" >-0.18</td>\n",
              "                        <td id=\"T_2c484d08_51d9_11eb_b848_0242ac1c0002row6_col6\" class=\"data row6 col6\" >1.00</td>\n",
              "                        <td id=\"T_2c484d08_51d9_11eb_b848_0242ac1c0002row6_col7\" class=\"data row6 col7\" >0.91</td>\n",
              "                        <td id=\"T_2c484d08_51d9_11eb_b848_0242ac1c0002row6_col8\" class=\"data row6 col8\" >-0.12</td>\n",
              "                        <td id=\"T_2c484d08_51d9_11eb_b848_0242ac1c0002row6_col9\" class=\"data row6 col9\" >0.07</td>\n",
              "                        <td id=\"T_2c484d08_51d9_11eb_b848_0242ac1c0002row6_col10\" class=\"data row6 col10\" >0.02</td>\n",
              "                        <td id=\"T_2c484d08_51d9_11eb_b848_0242ac1c0002row6_col11\" class=\"data row6 col11\" >-0.02</td>\n",
              "                        <td id=\"T_2c484d08_51d9_11eb_b848_0242ac1c0002row6_col12\" class=\"data row6 col12\" >-0.01</td>\n",
              "                        <td id=\"T_2c484d08_51d9_11eb_b848_0242ac1c0002row6_col13\" class=\"data row6 col13\" >0.08</td>\n",
              "                        <td id=\"T_2c484d08_51d9_11eb_b848_0242ac1c0002row6_col14\" class=\"data row6 col14\" >-0.05</td>\n",
              "                        <td id=\"T_2c484d08_51d9_11eb_b848_0242ac1c0002row6_col15\" class=\"data row6 col15\" >-0.15</td>\n",
              "            </tr>\n",
              "            <tr>\n",
              "                        <th id=\"T_2c484d08_51d9_11eb_b848_0242ac1c0002level0_row7\" class=\"row_heading level0 row7\" >ExitRates</th>\n",
              "                        <td id=\"T_2c484d08_51d9_11eb_b848_0242ac1c0002row7_col0\" class=\"data row7 col0\" >-0.32</td>\n",
              "                        <td id=\"T_2c484d08_51d9_11eb_b848_0242ac1c0002row7_col1\" class=\"data row7 col1\" >-0.21</td>\n",
              "                        <td id=\"T_2c484d08_51d9_11eb_b848_0242ac1c0002row7_col2\" class=\"data row7 col2\" >-0.16</td>\n",
              "                        <td id=\"T_2c484d08_51d9_11eb_b848_0242ac1c0002row7_col3\" class=\"data row7 col3\" >-0.11</td>\n",
              "                        <td id=\"T_2c484d08_51d9_11eb_b848_0242ac1c0002row7_col4\" class=\"data row7 col4\" >-0.29</td>\n",
              "                        <td id=\"T_2c484d08_51d9_11eb_b848_0242ac1c0002row7_col5\" class=\"data row7 col5\" >-0.25</td>\n",
              "                        <td id=\"T_2c484d08_51d9_11eb_b848_0242ac1c0002row7_col6\" class=\"data row7 col6\" >0.91</td>\n",
              "                        <td id=\"T_2c484d08_51d9_11eb_b848_0242ac1c0002row7_col7\" class=\"data row7 col7\" >1.00</td>\n",
              "                        <td id=\"T_2c484d08_51d9_11eb_b848_0242ac1c0002row7_col8\" class=\"data row7 col8\" >-0.17</td>\n",
              "                        <td id=\"T_2c484d08_51d9_11eb_b848_0242ac1c0002row7_col9\" class=\"data row7 col9\" >0.10</td>\n",
              "                        <td id=\"T_2c484d08_51d9_11eb_b848_0242ac1c0002row7_col10\" class=\"data row7 col10\" >0.01</td>\n",
              "                        <td id=\"T_2c484d08_51d9_11eb_b848_0242ac1c0002row7_col11\" class=\"data row7 col11\" >-0.00</td>\n",
              "                        <td id=\"T_2c484d08_51d9_11eb_b848_0242ac1c0002row7_col12\" class=\"data row7 col12\" >-0.01</td>\n",
              "                        <td id=\"T_2c484d08_51d9_11eb_b848_0242ac1c0002row7_col13\" class=\"data row7 col13\" >0.08</td>\n",
              "                        <td id=\"T_2c484d08_51d9_11eb_b848_0242ac1c0002row7_col14\" class=\"data row7 col14\" >-0.06</td>\n",
              "                        <td id=\"T_2c484d08_51d9_11eb_b848_0242ac1c0002row7_col15\" class=\"data row7 col15\" >-0.21</td>\n",
              "            </tr>\n",
              "            <tr>\n",
              "                        <th id=\"T_2c484d08_51d9_11eb_b848_0242ac1c0002level0_row8\" class=\"row_heading level0 row8\" >PageValues</th>\n",
              "                        <td id=\"T_2c484d08_51d9_11eb_b848_0242ac1c0002row8_col0\" class=\"data row8 col0\" >0.10</td>\n",
              "                        <td id=\"T_2c484d08_51d9_11eb_b848_0242ac1c0002row8_col1\" class=\"data row8 col1\" >0.07</td>\n",
              "                        <td id=\"T_2c484d08_51d9_11eb_b848_0242ac1c0002row8_col2\" class=\"data row8 col2\" >0.05</td>\n",
              "                        <td id=\"T_2c484d08_51d9_11eb_b848_0242ac1c0002row8_col3\" class=\"data row8 col3\" >0.03</td>\n",
              "                        <td id=\"T_2c484d08_51d9_11eb_b848_0242ac1c0002row8_col4\" class=\"data row8 col4\" >0.06</td>\n",
              "                        <td id=\"T_2c484d08_51d9_11eb_b848_0242ac1c0002row8_col5\" class=\"data row8 col5\" >0.05</td>\n",
              "                        <td id=\"T_2c484d08_51d9_11eb_b848_0242ac1c0002row8_col6\" class=\"data row8 col6\" >-0.12</td>\n",
              "                        <td id=\"T_2c484d08_51d9_11eb_b848_0242ac1c0002row8_col7\" class=\"data row8 col7\" >-0.17</td>\n",
              "                        <td id=\"T_2c484d08_51d9_11eb_b848_0242ac1c0002row8_col8\" class=\"data row8 col8\" >1.00</td>\n",
              "                        <td id=\"T_2c484d08_51d9_11eb_b848_0242ac1c0002row8_col9\" class=\"data row8 col9\" >-0.06</td>\n",
              "                        <td id=\"T_2c484d08_51d9_11eb_b848_0242ac1c0002row8_col10\" class=\"data row8 col10\" >0.02</td>\n",
              "                        <td id=\"T_2c484d08_51d9_11eb_b848_0242ac1c0002row8_col11\" class=\"data row8 col11\" >0.05</td>\n",
              "                        <td id=\"T_2c484d08_51d9_11eb_b848_0242ac1c0002row8_col12\" class=\"data row8 col12\" >0.01</td>\n",
              "                        <td id=\"T_2c484d08_51d9_11eb_b848_0242ac1c0002row8_col13\" class=\"data row8 col13\" >0.01</td>\n",
              "                        <td id=\"T_2c484d08_51d9_11eb_b848_0242ac1c0002row8_col14\" class=\"data row8 col14\" >0.01</td>\n",
              "                        <td id=\"T_2c484d08_51d9_11eb_b848_0242ac1c0002row8_col15\" class=\"data row8 col15\" >0.49</td>\n",
              "            </tr>\n",
              "            <tr>\n",
              "                        <th id=\"T_2c484d08_51d9_11eb_b848_0242ac1c0002level0_row9\" class=\"row_heading level0 row9\" >SpecialDay</th>\n",
              "                        <td id=\"T_2c484d08_51d9_11eb_b848_0242ac1c0002row9_col0\" class=\"data row9 col0\" >-0.09</td>\n",
              "                        <td id=\"T_2c484d08_51d9_11eb_b848_0242ac1c0002row9_col1\" class=\"data row9 col1\" >-0.07</td>\n",
              "                        <td id=\"T_2c484d08_51d9_11eb_b848_0242ac1c0002row9_col2\" class=\"data row9 col2\" >-0.05</td>\n",
              "                        <td id=\"T_2c484d08_51d9_11eb_b848_0242ac1c0002row9_col3\" class=\"data row9 col3\" >-0.03</td>\n",
              "                        <td id=\"T_2c484d08_51d9_11eb_b848_0242ac1c0002row9_col4\" class=\"data row9 col4\" >-0.02</td>\n",
              "                        <td id=\"T_2c484d08_51d9_11eb_b848_0242ac1c0002row9_col5\" class=\"data row9 col5\" >-0.04</td>\n",
              "                        <td id=\"T_2c484d08_51d9_11eb_b848_0242ac1c0002row9_col6\" class=\"data row9 col6\" >0.07</td>\n",
              "                        <td id=\"T_2c484d08_51d9_11eb_b848_0242ac1c0002row9_col7\" class=\"data row9 col7\" >0.10</td>\n",
              "                        <td id=\"T_2c484d08_51d9_11eb_b848_0242ac1c0002row9_col8\" class=\"data row9 col8\" >-0.06</td>\n",
              "                        <td id=\"T_2c484d08_51d9_11eb_b848_0242ac1c0002row9_col9\" class=\"data row9 col9\" >1.00</td>\n",
              "                        <td id=\"T_2c484d08_51d9_11eb_b848_0242ac1c0002row9_col10\" class=\"data row9 col10\" >0.01</td>\n",
              "                        <td id=\"T_2c484d08_51d9_11eb_b848_0242ac1c0002row9_col11\" class=\"data row9 col11\" >0.00</td>\n",
              "                        <td id=\"T_2c484d08_51d9_11eb_b848_0242ac1c0002row9_col12\" class=\"data row9 col12\" >-0.02</td>\n",
              "                        <td id=\"T_2c484d08_51d9_11eb_b848_0242ac1c0002row9_col13\" class=\"data row9 col13\" >0.05</td>\n",
              "                        <td id=\"T_2c484d08_51d9_11eb_b848_0242ac1c0002row9_col14\" class=\"data row9 col14\" >-0.02</td>\n",
              "                        <td id=\"T_2c484d08_51d9_11eb_b848_0242ac1c0002row9_col15\" class=\"data row9 col15\" >-0.08</td>\n",
              "            </tr>\n",
              "            <tr>\n",
              "                        <th id=\"T_2c484d08_51d9_11eb_b848_0242ac1c0002level0_row10\" class=\"row_heading level0 row10\" >OperatingSystems</th>\n",
              "                        <td id=\"T_2c484d08_51d9_11eb_b848_0242ac1c0002row10_col0\" class=\"data row10 col0\" >-0.01</td>\n",
              "                        <td id=\"T_2c484d08_51d9_11eb_b848_0242ac1c0002row10_col1\" class=\"data row10 col1\" >-0.01</td>\n",
              "                        <td id=\"T_2c484d08_51d9_11eb_b848_0242ac1c0002row10_col2\" class=\"data row10 col2\" >-0.01</td>\n",
              "                        <td id=\"T_2c484d08_51d9_11eb_b848_0242ac1c0002row10_col3\" class=\"data row10 col3\" >-0.01</td>\n",
              "                        <td id=\"T_2c484d08_51d9_11eb_b848_0242ac1c0002row10_col4\" class=\"data row10 col4\" >0.00</td>\n",
              "                        <td id=\"T_2c484d08_51d9_11eb_b848_0242ac1c0002row10_col5\" class=\"data row10 col5\" >0.00</td>\n",
              "                        <td id=\"T_2c484d08_51d9_11eb_b848_0242ac1c0002row10_col6\" class=\"data row10 col6\" >0.02</td>\n",
              "                        <td id=\"T_2c484d08_51d9_11eb_b848_0242ac1c0002row10_col7\" class=\"data row10 col7\" >0.01</td>\n",
              "                        <td id=\"T_2c484d08_51d9_11eb_b848_0242ac1c0002row10_col8\" class=\"data row10 col8\" >0.02</td>\n",
              "                        <td id=\"T_2c484d08_51d9_11eb_b848_0242ac1c0002row10_col9\" class=\"data row10 col9\" >0.01</td>\n",
              "                        <td id=\"T_2c484d08_51d9_11eb_b848_0242ac1c0002row10_col10\" class=\"data row10 col10\" >1.00</td>\n",
              "                        <td id=\"T_2c484d08_51d9_11eb_b848_0242ac1c0002row10_col11\" class=\"data row10 col11\" >0.22</td>\n",
              "                        <td id=\"T_2c484d08_51d9_11eb_b848_0242ac1c0002row10_col12\" class=\"data row10 col12\" >0.08</td>\n",
              "                        <td id=\"T_2c484d08_51d9_11eb_b848_0242ac1c0002row10_col13\" class=\"data row10 col13\" >0.19</td>\n",
              "                        <td id=\"T_2c484d08_51d9_11eb_b848_0242ac1c0002row10_col14\" class=\"data row10 col14\" >0.00</td>\n",
              "                        <td id=\"T_2c484d08_51d9_11eb_b848_0242ac1c0002row10_col15\" class=\"data row10 col15\" >-0.01</td>\n",
              "            </tr>\n",
              "            <tr>\n",
              "                        <th id=\"T_2c484d08_51d9_11eb_b848_0242ac1c0002level0_row11\" class=\"row_heading level0 row11\" >Browser</th>\n",
              "                        <td id=\"T_2c484d08_51d9_11eb_b848_0242ac1c0002row11_col0\" class=\"data row11 col0\" >-0.03</td>\n",
              "                        <td id=\"T_2c484d08_51d9_11eb_b848_0242ac1c0002row11_col1\" class=\"data row11 col1\" >-0.02</td>\n",
              "                        <td id=\"T_2c484d08_51d9_11eb_b848_0242ac1c0002row11_col2\" class=\"data row11 col2\" >-0.04</td>\n",
              "                        <td id=\"T_2c484d08_51d9_11eb_b848_0242ac1c0002row11_col3\" class=\"data row11 col3\" >-0.02</td>\n",
              "                        <td id=\"T_2c484d08_51d9_11eb_b848_0242ac1c0002row11_col4\" class=\"data row11 col4\" >-0.01</td>\n",
              "                        <td id=\"T_2c484d08_51d9_11eb_b848_0242ac1c0002row11_col5\" class=\"data row11 col5\" >-0.01</td>\n",
              "                        <td id=\"T_2c484d08_51d9_11eb_b848_0242ac1c0002row11_col6\" class=\"data row11 col6\" >-0.02</td>\n",
              "                        <td id=\"T_2c484d08_51d9_11eb_b848_0242ac1c0002row11_col7\" class=\"data row11 col7\" >-0.00</td>\n",
              "                        <td id=\"T_2c484d08_51d9_11eb_b848_0242ac1c0002row11_col8\" class=\"data row11 col8\" >0.05</td>\n",
              "                        <td id=\"T_2c484d08_51d9_11eb_b848_0242ac1c0002row11_col9\" class=\"data row11 col9\" >0.00</td>\n",
              "                        <td id=\"T_2c484d08_51d9_11eb_b848_0242ac1c0002row11_col10\" class=\"data row11 col10\" >0.22</td>\n",
              "                        <td id=\"T_2c484d08_51d9_11eb_b848_0242ac1c0002row11_col11\" class=\"data row11 col11\" >1.00</td>\n",
              "                        <td id=\"T_2c484d08_51d9_11eb_b848_0242ac1c0002row11_col12\" class=\"data row11 col12\" >0.10</td>\n",
              "                        <td id=\"T_2c484d08_51d9_11eb_b848_0242ac1c0002row11_col13\" class=\"data row11 col13\" >0.11</td>\n",
              "                        <td id=\"T_2c484d08_51d9_11eb_b848_0242ac1c0002row11_col14\" class=\"data row11 col14\" >-0.04</td>\n",
              "                        <td id=\"T_2c484d08_51d9_11eb_b848_0242ac1c0002row11_col15\" class=\"data row11 col15\" >0.02</td>\n",
              "            </tr>\n",
              "            <tr>\n",
              "                        <th id=\"T_2c484d08_51d9_11eb_b848_0242ac1c0002level0_row12\" class=\"row_heading level0 row12\" >Region</th>\n",
              "                        <td id=\"T_2c484d08_51d9_11eb_b848_0242ac1c0002row12_col0\" class=\"data row12 col0\" >-0.01</td>\n",
              "                        <td id=\"T_2c484d08_51d9_11eb_b848_0242ac1c0002row12_col1\" class=\"data row12 col1\" >-0.01</td>\n",
              "                        <td id=\"T_2c484d08_51d9_11eb_b848_0242ac1c0002row12_col2\" class=\"data row12 col2\" >-0.03</td>\n",
              "                        <td id=\"T_2c484d08_51d9_11eb_b848_0242ac1c0002row12_col3\" class=\"data row12 col3\" >-0.03</td>\n",
              "                        <td id=\"T_2c484d08_51d9_11eb_b848_0242ac1c0002row12_col4\" class=\"data row12 col4\" >-0.04</td>\n",
              "                        <td id=\"T_2c484d08_51d9_11eb_b848_0242ac1c0002row12_col5\" class=\"data row12 col5\" >-0.03</td>\n",
              "                        <td id=\"T_2c484d08_51d9_11eb_b848_0242ac1c0002row12_col6\" class=\"data row12 col6\" >-0.01</td>\n",
              "                        <td id=\"T_2c484d08_51d9_11eb_b848_0242ac1c0002row12_col7\" class=\"data row12 col7\" >-0.01</td>\n",
              "                        <td id=\"T_2c484d08_51d9_11eb_b848_0242ac1c0002row12_col8\" class=\"data row12 col8\" >0.01</td>\n",
              "                        <td id=\"T_2c484d08_51d9_11eb_b848_0242ac1c0002row12_col9\" class=\"data row12 col9\" >-0.02</td>\n",
              "                        <td id=\"T_2c484d08_51d9_11eb_b848_0242ac1c0002row12_col10\" class=\"data row12 col10\" >0.08</td>\n",
              "                        <td id=\"T_2c484d08_51d9_11eb_b848_0242ac1c0002row12_col11\" class=\"data row12 col11\" >0.10</td>\n",
              "                        <td id=\"T_2c484d08_51d9_11eb_b848_0242ac1c0002row12_col12\" class=\"data row12 col12\" >1.00</td>\n",
              "                        <td id=\"T_2c484d08_51d9_11eb_b848_0242ac1c0002row12_col13\" class=\"data row12 col13\" >0.05</td>\n",
              "                        <td id=\"T_2c484d08_51d9_11eb_b848_0242ac1c0002row12_col14\" class=\"data row12 col14\" >-0.00</td>\n",
              "                        <td id=\"T_2c484d08_51d9_11eb_b848_0242ac1c0002row12_col15\" class=\"data row12 col15\" >-0.01</td>\n",
              "            </tr>\n",
              "            <tr>\n",
              "                        <th id=\"T_2c484d08_51d9_11eb_b848_0242ac1c0002level0_row13\" class=\"row_heading level0 row13\" >TrafficType</th>\n",
              "                        <td id=\"T_2c484d08_51d9_11eb_b848_0242ac1c0002row13_col0\" class=\"data row13 col0\" >-0.03</td>\n",
              "                        <td id=\"T_2c484d08_51d9_11eb_b848_0242ac1c0002row13_col1\" class=\"data row13 col1\" >-0.01</td>\n",
              "                        <td id=\"T_2c484d08_51d9_11eb_b848_0242ac1c0002row13_col2\" class=\"data row13 col2\" >-0.03</td>\n",
              "                        <td id=\"T_2c484d08_51d9_11eb_b848_0242ac1c0002row13_col3\" class=\"data row13 col3\" >-0.02</td>\n",
              "                        <td id=\"T_2c484d08_51d9_11eb_b848_0242ac1c0002row13_col4\" class=\"data row13 col4\" >-0.04</td>\n",
              "                        <td id=\"T_2c484d08_51d9_11eb_b848_0242ac1c0002row13_col5\" class=\"data row13 col5\" >-0.04</td>\n",
              "                        <td id=\"T_2c484d08_51d9_11eb_b848_0242ac1c0002row13_col6\" class=\"data row13 col6\" >0.08</td>\n",
              "                        <td id=\"T_2c484d08_51d9_11eb_b848_0242ac1c0002row13_col7\" class=\"data row13 col7\" >0.08</td>\n",
              "                        <td id=\"T_2c484d08_51d9_11eb_b848_0242ac1c0002row13_col8\" class=\"data row13 col8\" >0.01</td>\n",
              "                        <td id=\"T_2c484d08_51d9_11eb_b848_0242ac1c0002row13_col9\" class=\"data row13 col9\" >0.05</td>\n",
              "                        <td id=\"T_2c484d08_51d9_11eb_b848_0242ac1c0002row13_col10\" class=\"data row13 col10\" >0.19</td>\n",
              "                        <td id=\"T_2c484d08_51d9_11eb_b848_0242ac1c0002row13_col11\" class=\"data row13 col11\" >0.11</td>\n",
              "                        <td id=\"T_2c484d08_51d9_11eb_b848_0242ac1c0002row13_col12\" class=\"data row13 col12\" >0.05</td>\n",
              "                        <td id=\"T_2c484d08_51d9_11eb_b848_0242ac1c0002row13_col13\" class=\"data row13 col13\" >1.00</td>\n",
              "                        <td id=\"T_2c484d08_51d9_11eb_b848_0242ac1c0002row13_col14\" class=\"data row13 col14\" >-0.00</td>\n",
              "                        <td id=\"T_2c484d08_51d9_11eb_b848_0242ac1c0002row13_col15\" class=\"data row13 col15\" >-0.01</td>\n",
              "            </tr>\n",
              "            <tr>\n",
              "                        <th id=\"T_2c484d08_51d9_11eb_b848_0242ac1c0002level0_row14\" class=\"row_heading level0 row14\" >Weekend</th>\n",
              "                        <td id=\"T_2c484d08_51d9_11eb_b848_0242ac1c0002row14_col0\" class=\"data row14 col0\" >0.03</td>\n",
              "                        <td id=\"T_2c484d08_51d9_11eb_b848_0242ac1c0002row14_col1\" class=\"data row14 col1\" >0.01</td>\n",
              "                        <td id=\"T_2c484d08_51d9_11eb_b848_0242ac1c0002row14_col2\" class=\"data row14 col2\" >0.04</td>\n",
              "                        <td id=\"T_2c484d08_51d9_11eb_b848_0242ac1c0002row14_col3\" class=\"data row14 col3\" >0.02</td>\n",
              "                        <td id=\"T_2c484d08_51d9_11eb_b848_0242ac1c0002row14_col4\" class=\"data row14 col4\" >0.02</td>\n",
              "                        <td id=\"T_2c484d08_51d9_11eb_b848_0242ac1c0002row14_col5\" class=\"data row14 col5\" >0.01</td>\n",
              "                        <td id=\"T_2c484d08_51d9_11eb_b848_0242ac1c0002row14_col6\" class=\"data row14 col6\" >-0.05</td>\n",
              "                        <td id=\"T_2c484d08_51d9_11eb_b848_0242ac1c0002row14_col7\" class=\"data row14 col7\" >-0.06</td>\n",
              "                        <td id=\"T_2c484d08_51d9_11eb_b848_0242ac1c0002row14_col8\" class=\"data row14 col8\" >0.01</td>\n",
              "                        <td id=\"T_2c484d08_51d9_11eb_b848_0242ac1c0002row14_col9\" class=\"data row14 col9\" >-0.02</td>\n",
              "                        <td id=\"T_2c484d08_51d9_11eb_b848_0242ac1c0002row14_col10\" class=\"data row14 col10\" >0.00</td>\n",
              "                        <td id=\"T_2c484d08_51d9_11eb_b848_0242ac1c0002row14_col11\" class=\"data row14 col11\" >-0.04</td>\n",
              "                        <td id=\"T_2c484d08_51d9_11eb_b848_0242ac1c0002row14_col12\" class=\"data row14 col12\" >-0.00</td>\n",
              "                        <td id=\"T_2c484d08_51d9_11eb_b848_0242ac1c0002row14_col13\" class=\"data row14 col13\" >-0.00</td>\n",
              "                        <td id=\"T_2c484d08_51d9_11eb_b848_0242ac1c0002row14_col14\" class=\"data row14 col14\" >1.00</td>\n",
              "                        <td id=\"T_2c484d08_51d9_11eb_b848_0242ac1c0002row14_col15\" class=\"data row14 col15\" >0.03</td>\n",
              "            </tr>\n",
              "            <tr>\n",
              "                        <th id=\"T_2c484d08_51d9_11eb_b848_0242ac1c0002level0_row15\" class=\"row_heading level0 row15\" >Revenue</th>\n",
              "                        <td id=\"T_2c484d08_51d9_11eb_b848_0242ac1c0002row15_col0\" class=\"data row15 col0\" >0.14</td>\n",
              "                        <td id=\"T_2c484d08_51d9_11eb_b848_0242ac1c0002row15_col1\" class=\"data row15 col1\" >0.09</td>\n",
              "                        <td id=\"T_2c484d08_51d9_11eb_b848_0242ac1c0002row15_col2\" class=\"data row15 col2\" >0.10</td>\n",
              "                        <td id=\"T_2c484d08_51d9_11eb_b848_0242ac1c0002row15_col3\" class=\"data row15 col3\" >0.07</td>\n",
              "                        <td id=\"T_2c484d08_51d9_11eb_b848_0242ac1c0002row15_col4\" class=\"data row15 col4\" >0.16</td>\n",
              "                        <td id=\"T_2c484d08_51d9_11eb_b848_0242ac1c0002row15_col5\" class=\"data row15 col5\" >0.15</td>\n",
              "                        <td id=\"T_2c484d08_51d9_11eb_b848_0242ac1c0002row15_col6\" class=\"data row15 col6\" >-0.15</td>\n",
              "                        <td id=\"T_2c484d08_51d9_11eb_b848_0242ac1c0002row15_col7\" class=\"data row15 col7\" >-0.21</td>\n",
              "                        <td id=\"T_2c484d08_51d9_11eb_b848_0242ac1c0002row15_col8\" class=\"data row15 col8\" >0.49</td>\n",
              "                        <td id=\"T_2c484d08_51d9_11eb_b848_0242ac1c0002row15_col9\" class=\"data row15 col9\" >-0.08</td>\n",
              "                        <td id=\"T_2c484d08_51d9_11eb_b848_0242ac1c0002row15_col10\" class=\"data row15 col10\" >-0.01</td>\n",
              "                        <td id=\"T_2c484d08_51d9_11eb_b848_0242ac1c0002row15_col11\" class=\"data row15 col11\" >0.02</td>\n",
              "                        <td id=\"T_2c484d08_51d9_11eb_b848_0242ac1c0002row15_col12\" class=\"data row15 col12\" >-0.01</td>\n",
              "                        <td id=\"T_2c484d08_51d9_11eb_b848_0242ac1c0002row15_col13\" class=\"data row15 col13\" >-0.01</td>\n",
              "                        <td id=\"T_2c484d08_51d9_11eb_b848_0242ac1c0002row15_col14\" class=\"data row15 col14\" >0.03</td>\n",
              "                        <td id=\"T_2c484d08_51d9_11eb_b848_0242ac1c0002row15_col15\" class=\"data row15 col15\" >1.00</td>\n",
              "            </tr>\n",
              "    </tbody></table>"
            ],
            "text/plain": [
              "<pandas.io.formats.style.Styler at 0x7f496a4cf9e8>"
            ]
          },
          "metadata": {
            "tags": []
          },
          "execution_count": 274
        }
      ]
    },
    {
      "cell_type": "markdown",
      "metadata": {
        "id": "0y13jnzIbT3r"
      },
      "source": [
        "### Graph 3 : Number of visitors by Month"
      ]
    },
    {
      "cell_type": "code",
      "metadata": {
        "colab": {
          "base_uri": "https://localhost:8080/"
        },
        "id": "yXlMGrLcXKwB",
        "outputId": "ee9863ca-f97c-4e3d-c8e8-3d5d188c8001"
      },
      "source": [
        "plt.figure(figsize = (18,7))\r\n",
        "data['Month'].value_counts().plot(kind = \"bar\")\r\n",
        "plt.xticks(rotation = 90)\r\n",
        "plt.show()"
      ],
      "execution_count": null,
      "outputs": [
        {
          "output_type": "display_data",
          "data": {
            "image/png": "[encoded data removed]",
            "text/plain": [
              "<Figure size 1296x504 with 1 Axes>"
            ]
          },
          "metadata": {
            "tags": [],
            "needs_background": "light"
          }
        }
      ]
    },
    {
      "cell_type": "code",
      "metadata": {
        "colab": {
          "base_uri": "https://localhost:8080/"
        },
        "id": "VSRAKdkEZxZ5",
        "outputId": "88a11cc9-17cb-4730-d2c0-613ef23cf43e"
      },
      "source": [
        "plt.figure(figsize = (18,7))\r\n",
        "data['VisitorType'].value_counts().plot(kind = \"bar\")\r\n",
        "\r\n",
        "plt.xticks(rotation = 90)\r\n",
        "plt.show()"
      ],
      "execution_count": null,
      "outputs": [
        {
          "output_type": "display_data",
          "data": {
            "image/png": "[encoded data removed]",
            "text/plain": [
              "<Figure size 1296x504 with 1 Axes>"
            ]
          },
          "metadata": {
            "tags": [],
            "needs_background": "light"
          }
        }
      ]
    },
    {
      "cell_type": "code",
      "metadata": {
        "id": "6l3-1sOqbovk"
      },
      "source": [
        ""
      ],
      "execution_count": null,
      "outputs": []
    },
    {
      "cell_type": "markdown",
      "metadata": {
        "id": "-lXO6t9IbnsO"
      },
      "source": [
        "### Graph 4 : Checking the Distribution of customers on Revenue"
      ]
    },
    {
      "cell_type": "code",
      "metadata": {
        "colab": {
          "base_uri": "https://localhost:8080/"
        },
        "id": "lupgwgmRZ6K4",
        "outputId": "41b3e117-ed79-4eb3-d0a6-783285e7de9b"
      },
      "source": [
        "plt.figure(figsize = (10,7))\r\n",
        "\r\n",
        "plt.subplot(1, 2, 1)\r\n",
        "sns.countplot(data['Weekend'], palette = 'autumn')\r\n",
        "plt.title('Buy or Not', fontsize = 20)\r\n",
        "plt.xlabel('Revenue or not', fontsize = 15)\r\n",
        "plt.ylabel('count', fontsize = 15)\r\n",
        "\r\n",
        "# checking the Distribution of customers on Weekend\r\n",
        "plt.subplot(1, 2, 2)\r\n",
        "sns.countplot(data['Weekend'], palette = 'inferno')\r\n",
        "plt.title('Purchase on Weekends', fontsize = 20)\r\n",
        "plt.xlabel('Weekend or not', fontsize = 15)\r\n",
        "plt.ylabel('count', fontsize = 14,rotation = 90)\r\n",
        "\r\n",
        "plt.show()"
      ],
      "execution_count": null,
      "outputs": [
        {
          "output_type": "stream",
          "text": [
            "/usr/local/lib/python3.6/dist-packages/seaborn/_decorators.py:43: FutureWarning: Pass the following variable as a keyword arg: x. From version 0.12, the only valid positional argument will be `data`, and passing other arguments without an explicit keyword will result in an error or misinterpretation.\n",
            "  FutureWarning\n",
            "/usr/local/lib/python3.6/dist-packages/seaborn/_decorators.py:43: FutureWarning: Pass the following variable as a keyword arg: x. From version 0.12, the only valid positional argument will be `data`, and passing other arguments without an explicit keyword will result in an error or misinterpretation.\n",
            "  FutureWarning\n"
          ],
          "name": "stderr"
        },
        {
          "output_type": "display_data",
          "data": {
            "image/png": "[encoded data removed]",
            "text/plain": [
              "<Figure size 720x504 with 2 Axes>"
            ]
          },
          "metadata": {
            "tags": [],
            "needs_background": "light"
          }
        }
      ]
    },
    {
      "cell_type": "markdown",
      "metadata": {
        "id": "rtRWebHJ03Hk"
      },
      "source": [
        "# Data Preprocessing "
      ]
    },
    {
      "cell_type": "markdown",
      "metadata": {
        "id": "f8WELA9B1Dih"
      },
      "source": [
        "### Define Target "
      ]
    },
    {
      "cell_type": "code",
      "metadata": {
        "id": "ISI2RQrN1zhR"
      },
      "source": [
        "data['Weekend'] = data['Weekend'].map({False:0, True:1})\r\n",
        "data['Revenue'] = data['Revenue'].map({False:0, True:1})"
      ],
      "execution_count": null,
      "outputs": []
    },
    {
      "cell_type": "code",
      "metadata": {
        "id": "L2QbM75p1DAt"
      },
      "source": [
        "y=data.Revenue\r\n",
        "X=data.drop(\"Revenue\",axis=1)"
      ],
      "execution_count": null,
      "outputs": []
    },
    {
      "cell_type": "code",
      "metadata": {
        "id": "G93Xm83N-k9s"
      },
      "source": [
        "X1=pd.get_dummies(X,columns=['VisitorType'],drop_first=True)                 \r\n",
        "X1=X1.drop(\"Month\",axis=1)"
      ],
      "execution_count": null,
      "outputs": []
    },
    {
      "cell_type": "code",
      "metadata": {
        "id": "AoefI2hp4Yak"
      },
      "source": [
        "X=pd.get_dummies(X,columns=['VisitorType'],drop_first=True)                 \r\n",
        "X=pd.get_dummies(X,columns=['Month'],drop_first=True)"
      ],
      "execution_count": null,
      "outputs": []
    },
    {
      "cell_type": "code",
      "metadata": {
        "colab": {
          "base_uri": "https://localhost:8080/"
        },
        "id": "B6Xu9KXyS4jU",
        "outputId": "49cb79de-2a0e-4a97-f4c1-315a9ae6b2f6"
      },
      "source": [
        "X.columns"
      ],
      "execution_count": null,
      "outputs": [
        {
          "output_type": "execute_result",
          "data": {
            "text/plain": [
              "Index(['Administrative', 'Administrative_Duration', 'Informational',\n",
              "       'Informational_Duration', 'ProductRelated', 'ProductRelated_Duration',\n",
              "       'BounceRates', 'ExitRates', 'PageValues', 'SpecialDay',\n",
              "       'OperatingSystems', 'Browser', 'Region', 'TrafficType', 'Weekend',\n",
              "       'VisitorType_Other', 'VisitorType_Returning_Visitor', 'Month_Dec',\n",
              "       'Month_Feb', 'Month_Jul', 'Month_June', 'Month_Mar', 'Month_May',\n",
              "       'Month_Nov', 'Month_Oct', 'Month_Sep'],\n",
              "      dtype='object')"
            ]
          },
          "metadata": {
            "tags": []
          },
          "execution_count": 279
        }
      ]
    },
    {
      "cell_type": "markdown",
      "metadata": {
        "id": "9YUp9QMH18PK"
      },
      "source": [
        "### Data Normalization\r\n"
      ]
    },
    {
      "cell_type": "code",
      "metadata": {
        "id": "aciypHwL0-WZ"
      },
      "source": [
        "scaled = StandardScaler().fit_transform(X)"
      ],
      "execution_count": null,
      "outputs": []
    },
    {
      "cell_type": "code",
      "metadata": {
        "id": "0ZnHyD5O2diX"
      },
      "source": [
        "scaled = pd.DataFrame(data=scaled, columns=['Administrative', 'Administrative_Duration', 'Informational',\r\n",
        "       'Informational_Duration', 'ProductRelated', 'ProductRelated_Duration',\r\n",
        "       'BounceRates', 'ExitRates', 'PageValues', 'SpecialDay',\r\n",
        "       'OperatingSystems', 'Browser', 'Region', 'TrafficType', 'Weekend',\r\n",
        "       'VisitorType_Other', 'VisitorType_Returning_Visitor', 'Month_Dec',\r\n",
        "       'Month_Feb', 'Month_Jul', 'Month_June', 'Month_Mar', 'Month_May',\r\n",
        "       'Month_Nov', 'Month_Oct', 'Month_Sep'])"
      ],
      "execution_count": null,
      "outputs": []
    },
    {
      "cell_type": "code",
      "metadata": {
        "colab": {
          "base_uri": "https://localhost:8080/"
        },
        "id": "8879oZnG2rn3",
        "outputId": "6314f6f5-bf9c-4e38-c4ca-b66d722a3864"
      },
      "source": [
        "scaled.sample(2)"
      ],
      "execution_count": null,
      "outputs": [
        {
          "output_type": "execute_result",
          "data": {
            "text/html": [
              "<div>\n",
              "<style scoped>\n",
              "    .dataframe tbody tr th:only-of-type {\n",
              "        vertical-align: middle;\n",
              "    }\n",
              "\n",
              "    .dataframe tbody tr th {\n",
              "        vertical-align: top;\n",
              "    }\n",
              "\n",
              "    .dataframe thead th {\n",
              "        text-align: right;\n",
              "    }\n",
              "</style>\n",
              "<table border=\"1\" class=\"dataframe\">\n",
              "  <thead>\n",
              "    <tr style=\"text-align: right;\">\n",
              "      <th></th>\n",
              "      <th>Administrative</th>\n",
              "      <th>Administrative_Duration</th>\n",
              "      <th>Informational</th>\n",
              "      <th>Informational_Duration</th>\n",
              "      <th>ProductRelated</th>\n",
              "      <th>ProductRelated_Duration</th>\n",
              "      <th>BounceRates</th>\n",
              "      <th>ExitRates</th>\n",
              "      <th>PageValues</th>\n",
              "      <th>SpecialDay</th>\n",
              "      <th>OperatingSystems</th>\n",
              "      <th>Browser</th>\n",
              "      <th>Region</th>\n",
              "      <th>TrafficType</th>\n",
              "      <th>Weekend</th>\n",
              "      <th>VisitorType_Other</th>\n",
              "      <th>VisitorType_Returning_Visitor</th>\n",
              "      <th>Month_Dec</th>\n",
              "      <th>Month_Feb</th>\n",
              "      <th>Month_Jul</th>\n",
              "      <th>Month_June</th>\n",
              "      <th>Month_Mar</th>\n",
              "      <th>Month_May</th>\n",
              "      <th>Month_Nov</th>\n",
              "      <th>Month_Oct</th>\n",
              "      <th>Month_Sep</th>\n",
              "    </tr>\n",
              "  </thead>\n",
              "  <tbody>\n",
              "    <tr>\n",
              "      <th>1580</th>\n",
              "      <td>-0.696993</td>\n",
              "      <td>-0.457191</td>\n",
              "      <td>-0.396478</td>\n",
              "      <td>-0.244931</td>\n",
              "      <td>-0.083903</td>\n",
              "      <td>0.003791</td>\n",
              "      <td>-0.457683</td>\n",
              "      <td>-0.592393</td>\n",
              "      <td>-0.317178</td>\n",
              "      <td>-0.308821</td>\n",
              "      <td>-0.136078</td>\n",
              "      <td>-0.207952</td>\n",
              "      <td>-0.894178</td>\n",
              "      <td>1.473393</td>\n",
              "      <td>-0.550552</td>\n",
              "      <td>-0.083316</td>\n",
              "      <td>0.410621</td>\n",
              "      <td>-0.403582</td>\n",
              "      <td>-0.123081</td>\n",
              "      <td>-0.190548</td>\n",
              "      <td>-0.154649</td>\n",
              "      <td>2.337874</td>\n",
              "      <td>-0.612532</td>\n",
              "      <td>-0.566798</td>\n",
              "      <td>-0.215871</td>\n",
              "      <td>-0.194175</td>\n",
              "    </tr>\n",
              "    <tr>\n",
              "      <th>1398</th>\n",
              "      <td>-0.395938</td>\n",
              "      <td>-0.332737</td>\n",
              "      <td>-0.396478</td>\n",
              "      <td>-0.244931</td>\n",
              "      <td>-0.241299</td>\n",
              "      <td>-0.269897</td>\n",
              "      <td>-0.457683</td>\n",
              "      <td>-0.621345</td>\n",
              "      <td>-0.317178</td>\n",
              "      <td>-0.308821</td>\n",
              "      <td>0.961270</td>\n",
              "      <td>-0.207952</td>\n",
              "      <td>-0.894178</td>\n",
              "      <td>-0.514182</td>\n",
              "      <td>-0.550552</td>\n",
              "      <td>-0.083316</td>\n",
              "      <td>-2.435336</td>\n",
              "      <td>-0.403582</td>\n",
              "      <td>-0.123081</td>\n",
              "      <td>-0.190548</td>\n",
              "      <td>-0.154649</td>\n",
              "      <td>2.337874</td>\n",
              "      <td>-0.612532</td>\n",
              "      <td>-0.566798</td>\n",
              "      <td>-0.215871</td>\n",
              "      <td>-0.194175</td>\n",
              "    </tr>\n",
              "  </tbody>\n",
              "</table>\n",
              "</div>"
            ],
            "text/plain": [
              "      Administrative  Administrative_Duration  ...  Month_Oct  Month_Sep\n",
              "1580       -0.696993                -0.457191  ...  -0.215871  -0.194175\n",
              "1398       -0.395938                -0.332737  ...  -0.215871  -0.194175\n",
              "\n",
              "[2 rows x 26 columns]"
            ]
          },
          "metadata": {
            "tags": []
          },
          "execution_count": 282
        }
      ]
    },
    {
      "cell_type": "code",
      "metadata": {
        "colab": {
          "base_uri": "https://localhost:8080/"
        },
        "id": "qCS8etBy8WNL",
        "outputId": "934dcbc9-d99f-4de2-ed53-3934f6f6aaea"
      },
      "source": [
        "scaled.isnull().sum()"
      ],
      "execution_count": null,
      "outputs": [
        {
          "output_type": "execute_result",
          "data": {
            "text/plain": [
              "Administrative                   0\n",
              "Administrative_Duration          0\n",
              "Informational                    0\n",
              "Informational_Duration           0\n",
              "ProductRelated                   0\n",
              "ProductRelated_Duration          0\n",
              "BounceRates                      0\n",
              "ExitRates                        0\n",
              "PageValues                       0\n",
              "SpecialDay                       0\n",
              "OperatingSystems                 0\n",
              "Browser                          0\n",
              "Region                           0\n",
              "TrafficType                      0\n",
              "Weekend                          0\n",
              "VisitorType_Other                0\n",
              "VisitorType_Returning_Visitor    0\n",
              "Month_Dec                        0\n",
              "Month_Feb                        0\n",
              "Month_Jul                        0\n",
              "Month_June                       0\n",
              "Month_Mar                        0\n",
              "Month_May                        0\n",
              "Month_Nov                        0\n",
              "Month_Oct                        0\n",
              "Month_Sep                        0\n",
              "dtype: int64"
            ]
          },
          "metadata": {
            "tags": []
          },
          "execution_count": 283
        }
      ]
    },
    {
      "cell_type": "markdown",
      "metadata": {
        "id": "eZyDkUdp3CoF"
      },
      "source": [
        "# Machine Learning Models"
      ]
    },
    {
      "cell_type": "markdown",
      "metadata": {
        "id": "nMJ1BFnz3L-S"
      },
      "source": [
        "### Data Split"
      ]
    },
    {
      "cell_type": "code",
      "metadata": {
        "id": "oF22D0kuJKgf"
      },
      "source": [
        "X_train,X_test,y_train,y_test= train_test_split(X,y,test_size=0.3, random_state=2)"
      ],
      "execution_count": null,
      "outputs": []
    },
    {
      "cell_type": "code",
      "metadata": {
        "id": "C90FXKMp3O5q"
      },
      "source": [
        "Xscaled_train,Xscaled_test,yscaled_train,yscaled_test= train_test_split(scaled,y,test_size=0.3, random_state=2)"
      ],
      "execution_count": null,
      "outputs": []
    },
    {
      "cell_type": "code",
      "metadata": {
        "id": "BD_SCWJR_aej"
      },
      "source": [
        "X1_train,X1_test,y1_train,y1_test= train_test_split(X1,y,test_size=0.3, random_state=2)"
      ],
      "execution_count": null,
      "outputs": []
    },
    {
      "cell_type": "markdown",
      "metadata": {
        "id": "N6WMeIAC3xgf"
      },
      "source": [
        "## Decision Tree"
      ]
    },
    {
      "cell_type": "markdown",
      "metadata": {
        "id": "RYIjiBHR8uew"
      },
      "source": [
        "### With data without normalization"
      ]
    },
    {
      "cell_type": "code",
      "metadata": {
        "id": "sD7kgygw32HJ"
      },
      "source": [
        "clf = tree.DecisionTreeClassifier()\r\n",
        "clf = clf.fit(X_train, y_train)\r\n",
        "Dec_Tree_pred=clf.predict(X_test)"
      ],
      "execution_count": null,
      "outputs": []
    },
    {
      "cell_type": "code",
      "metadata": {
        "colab": {
          "base_uri": "https://localhost:8080/"
        },
        "id": "v4S4wCEH4BQC",
        "outputId": "acd84b6a-8604-463d-c696-06c8d71fb9c9"
      },
      "source": [
        "clf.score(X_test,y_test)"
      ],
      "execution_count": null,
      "outputs": [
        {
          "output_type": "execute_result",
          "data": {
            "text/plain": [
              "0.8527980535279805"
            ]
          },
          "metadata": {
            "tags": []
          },
          "execution_count": 288
        }
      ]
    },
    {
      "cell_type": "markdown",
      "metadata": {
        "id": "DCEaxayD815u"
      },
      "source": [
        "### With data with normalization"
      ]
    },
    {
      "cell_type": "code",
      "metadata": {
        "id": "NpM8j-HQ7ZC-"
      },
      "source": [
        "clf1 = tree.DecisionTreeClassifier()\r\n",
        "clf1 = clf1.fit(Xscaled_train, yscaled_train)\r\n",
        "Dec_Tree1_pred=clf1.predict(Xscaled_test)"
      ],
      "execution_count": null,
      "outputs": []
    },
    {
      "cell_type": "code",
      "metadata": {
        "colab": {
          "base_uri": "https://localhost:8080/"
        },
        "id": "gy1ugGoO7bHO",
        "outputId": "603367a3-c51d-4409-cf03-d9f347106dd8"
      },
      "source": [
        "clf1.score(Xscaled_test,yscaled_test)"
      ],
      "execution_count": null,
      "outputs": [
        {
          "output_type": "execute_result",
          "data": {
            "text/plain": [
              "0.8532035685320357"
            ]
          },
          "metadata": {
            "tags": []
          },
          "execution_count": 290
        }
      ]
    },
    {
      "cell_type": "markdown",
      "metadata": {
        "id": "-4gBzNXy7YzN"
      },
      "source": [
        "### Saving the Accuracy"
      ]
    },
    {
      "cell_type": "code",
      "metadata": {
        "colab": {
          "base_uri": "https://localhost:8080/"
        },
        "id": "XgLPxWHb90BS",
        "outputId": "64b65e12-aa07-4cbd-e9bd-006edb2fc818"
      },
      "source": [
        "Dec_Tree = round(accuracy_score(y_test, Dec_Tree_pred)*100,2)\r\n",
        "print(\"Decision Tree model accuracy(in %):\", Dec_Tree)"
      ],
      "execution_count": null,
      "outputs": [
        {
          "output_type": "stream",
          "text": [
            "Decision Tree model accuracy(in %): 85.28\n"
          ],
          "name": "stdout"
        }
      ]
    },
    {
      "cell_type": "code",
      "metadata": {
        "colab": {
          "base_uri": "https://localhost:8080/"
        },
        "id": "YCjrXKow9Xmr",
        "outputId": "6389c20d-66f0-46ff-cb5a-692f0b0ad104"
      },
      "source": [
        "Dec_Tree1 = round(accuracy_score(yscaled_test, Dec_Tree1_pred)*100,2)\r\n",
        "print(\"Decision Tree model accuracy(in %):\", Dec_Tree1)"
      ],
      "execution_count": null,
      "outputs": [
        {
          "output_type": "stream",
          "text": [
            "Decision Tree model accuracy(in %): 85.32\n"
          ],
          "name": "stdout"
        }
      ]
    },
    {
      "cell_type": "markdown",
      "metadata": {
        "id": "arWrtNfNEtZU"
      },
      "source": [
        "## Naive Bayes Classifier "
      ]
    },
    {
      "cell_type": "markdown",
      "metadata": {
        "id": "g3Ke85vnFdju"
      },
      "source": [
        "### With data without normalization"
      ]
    },
    {
      "cell_type": "code",
      "metadata": {
        "colab": {
          "base_uri": "https://localhost:8080/"
        },
        "id": "fMlE1o5tEuRN",
        "outputId": "7ee1ddbe-4e03-4ea8-bc67-528e5da157be"
      },
      "source": [
        "gnb = GaussianNB() \r\n",
        "gnb.fit(X_train, y_train) "
      ],
      "execution_count": null,
      "outputs": [
        {
          "output_type": "execute_result",
          "data": {
            "text/plain": [
              "GaussianNB(priors=None, var_smoothing=1e-09)"
            ]
          },
          "metadata": {
            "tags": []
          },
          "execution_count": 293
        }
      ]
    },
    {
      "cell_type": "code",
      "metadata": {
        "colab": {
          "base_uri": "https://localhost:8080/"
        },
        "id": "IKHweiRdFM7v",
        "outputId": "64db1dcd-1309-454c-86e9-af406a2b5f96"
      },
      "source": [
        "NB_gaussian = round(gnb.score(X_test,y_test)*100,2)\r\n",
        "print(\"Decision Tree model accuracy(in %):\", NB_gaussian)"
      ],
      "execution_count": null,
      "outputs": [
        {
          "output_type": "stream",
          "text": [
            "Decision Tree model accuracy(in %): 81.54\n"
          ],
          "name": "stdout"
        }
      ]
    },
    {
      "cell_type": "markdown",
      "metadata": {
        "id": "q4wjYuAdFmR6"
      },
      "source": [
        "### With data with normalization"
      ]
    },
    {
      "cell_type": "code",
      "metadata": {
        "colab": {
          "base_uri": "https://localhost:8080/"
        },
        "id": "KInTczEgFqPy",
        "outputId": "ff28572d-8d44-4e8c-bf58-276e3bf15813"
      },
      "source": [
        "gnb1 = GaussianNB() \r\n",
        "gnb1.fit(Xscaled_train, yscaled_train) "
      ],
      "execution_count": null,
      "outputs": [
        {
          "output_type": "execute_result",
          "data": {
            "text/plain": [
              "GaussianNB(priors=None, var_smoothing=1e-09)"
            ]
          },
          "metadata": {
            "tags": []
          },
          "execution_count": 295
        }
      ]
    },
    {
      "cell_type": "code",
      "metadata": {
        "colab": {
          "base_uri": "https://localhost:8080/"
        },
        "id": "xhlWHwnGF2bM",
        "outputId": "09d4e72c-b4d0-4ff1-f7db-c088a944a73b"
      },
      "source": [
        "NB_gaussian1 = round(gnb1.score(Xscaled_test,yscaled_test)*100,2)\r\n",
        "print(\"Decision Tree model accuracy(in %):\", NB_gaussian1)"
      ],
      "execution_count": null,
      "outputs": [
        {
          "output_type": "stream",
          "text": [
            "Decision Tree model accuracy(in %): 71.29\n"
          ],
          "name": "stdout"
        }
      ]
    },
    {
      "cell_type": "markdown",
      "metadata": {
        "id": "2OLIuJ-QAhA8"
      },
      "source": [
        "## Random Forest"
      ]
    },
    {
      "cell_type": "markdown",
      "metadata": {
        "id": "jFGfCO4kCtHd"
      },
      "source": [
        "### With data without normalization"
      ]
    },
    {
      "cell_type": "markdown",
      "metadata": {
        "id": "nHBOhFE2HjXa"
      },
      "source": [
        "Create the parameter grid to reach a better model"
      ]
    },
    {
      "cell_type": "code",
      "metadata": {
        "id": "9XsGrrcWEdJC"
      },
      "source": [
        "param_grid = {\r\n",
        "    'bootstrap': [True,False],\r\n",
        "    'max_depth': [10,2],\r\n",
        "    'criterion':['gini','entropy'],\r\n",
        "    'n_estimators': [139,500,750]\r\n",
        "}"
      ],
      "execution_count": null,
      "outputs": []
    },
    {
      "cell_type": "code",
      "metadata": {
        "colab": {
          "base_uri": "https://localhost:8080/"
        },
        "id": "kVUkdGAUErWT",
        "outputId": "600a8c9e-1776-4f40-95d6-dad54447c03d"
      },
      "source": [
        "grid_search = GridSearchCV(estimator = rnd, param_grid = param_grid, \r\n",
        "                          cv = 3, n_jobs = -1, verbose = 2)\r\n",
        "grid_search.fit(X_train,y_train)\r\n",
        "y_pred_rnd=grid_search.predict(X_test)"
      ],
      "execution_count": null,
      "outputs": [
        {
          "output_type": "stream",
          "text": [
            "Fitting 3 folds for each of 24 candidates, totalling 72 fits\n"
          ],
          "name": "stdout"
        },
        {
          "output_type": "stream",
          "text": [
            "[Parallel(n_jobs=-1)]: Using backend LokyBackend with 2 concurrent workers.\n",
            "[Parallel(n_jobs=-1)]: Done  37 tasks      | elapsed:  1.2min\n",
            "[Parallel(n_jobs=-1)]: Done  72 out of  72 | elapsed:  2.6min finished\n"
          ],
          "name": "stderr"
        }
      ]
    },
    {
      "cell_type": "code",
      "metadata": {
        "colab": {
          "base_uri": "https://localhost:8080/"
        },
        "id": "Me_FOYTSPa3V",
        "outputId": "0e490119-f760-4f66-9557-5406a4867416"
      },
      "source": [
        "grid_search.score(X_test,y_test)"
      ],
      "execution_count": null,
      "outputs": [
        {
          "output_type": "execute_result",
          "data": {
            "text/plain": [
              "0.9088942957556096"
            ]
          },
          "metadata": {
            "tags": []
          },
          "execution_count": 336
        }
      ]
    },
    {
      "cell_type": "markdown",
      "metadata": {
        "id": "ezp9hFkvHetx"
      },
      "source": [
        "With custom parameters"
      ]
    },
    {
      "cell_type": "code",
      "metadata": {
        "id": "2c-k9ENHAgvU"
      },
      "source": [
        "rnd = RandomForestClassifier(max_depth=10, random_state=2, n_estimators=139)\r\n",
        "rnd.fit(X_train, y_train)\r\n",
        "rnd_pred=rnd.predict(X_test)"
      ],
      "execution_count": null,
      "outputs": []
    },
    {
      "cell_type": "code",
      "metadata": {
        "colab": {
          "base_uri": "https://localhost:8080/"
        },
        "id": "Dm8zSRuvCvdI",
        "outputId": "aff3e727-da34-45ab-db5f-7899bfad5bf4"
      },
      "source": [
        "rnd.score(X_test,y_test)"
      ],
      "execution_count": null,
      "outputs": [
        {
          "output_type": "execute_result",
          "data": {
            "text/plain": [
              "0.9097053257637199"
            ]
          },
          "metadata": {
            "tags": []
          },
          "execution_count": 337
        }
      ]
    },
    {
      "cell_type": "code",
      "metadata": {
        "colab": {
          "base_uri": "https://localhost:8080/"
        },
        "id": "UoNbApraBPQO",
        "outputId": "c62fcd2a-5e09-4e23-e84a-a9fff928ea57"
      },
      "source": [
        "Rnd_forest =  round(accuracy_score(yscaled_test, rnd_pred)*100,2)\r\n",
        "print('Random Forest Classifier model accuracy(in %):', Rnd_forest)"
      ],
      "execution_count": null,
      "outputs": [
        {
          "output_type": "stream",
          "text": [
            "Random Forest Classifier model accuracy(in %): 90.97\n"
          ],
          "name": "stdout"
        }
      ]
    },
    {
      "cell_type": "code",
      "metadata": {
        "colab": {
          "base_uri": "https://localhost:8080/"
        },
        "id": "gp-2qTtGDbzq",
        "outputId": "46708615-dd4d-4279-e5bf-bd28033a6d9d"
      },
      "source": [
        "cm_rnd = confusion_matrix(y_test, rnd_pred)\r\n",
        "cm_rnd"
      ],
      "execution_count": null,
      "outputs": [
        {
          "output_type": "execute_result",
          "data": {
            "text/plain": [
              "array([[3062,  108],\n",
              "       [ 226,  303]])"
            ]
          },
          "metadata": {
            "tags": []
          },
          "execution_count": 345
        }
      ]
    },
    {
      "cell_type": "markdown",
      "metadata": {
        "id": "8tgzKR_PIui9"
      },
      "source": [
        "### With normalize Data"
      ]
    },
    {
      "cell_type": "code",
      "metadata": {
        "colab": {
          "base_uri": "https://localhost:8080/"
        },
        "id": "-57VsL0-_lo0",
        "outputId": "75a2f935-1721-4132-c940-4e80f41fc688"
      },
      "source": [
        "rnd1 = RandomForestClassifier(max_depth=10, random_state=2, n_estimators=139)\r\n",
        "rnd1.fit(Xscaled_train, yscaled_train)\r\n",
        "rnd1_pred=rnd1.predict(Xscaled_test)\r\n",
        "rnd1.score(Xscaled_test,yscaled_test)"
      ],
      "execution_count": null,
      "outputs": [
        {
          "output_type": "execute_result",
          "data": {
            "text/plain": [
              "0.9099756690997567"
            ]
          },
          "metadata": {
            "tags": []
          },
          "execution_count": 343
        }
      ]
    },
    {
      "cell_type": "code",
      "metadata": {
        "colab": {
          "base_uri": "https://localhost:8080/"
        },
        "id": "SycWDFbGJRO7",
        "outputId": "776c4ca3-4a58-468b-d7b5-edfc6ce1abd0"
      },
      "source": [
        "Rnd_forest1 =  round(accuracy_score(yscaled_test, rnd1_pred)*100,2)\r\n",
        "print('Random Forest Classifier model accuracy(in %):', Rnd_forest1)"
      ],
      "execution_count": null,
      "outputs": [
        {
          "output_type": "stream",
          "text": [
            "Random Forest Classifier model accuracy(in %): 91.0\n"
          ],
          "name": "stdout"
        }
      ]
    },
    {
      "cell_type": "code",
      "metadata": {
        "colab": {
          "base_uri": "https://localhost:8080/"
        },
        "id": "29jJFbQ3Ja6g",
        "outputId": "8fff54c5-b959-4461-8d74-31e6facbee9f"
      },
      "source": [
        "cm_rnd_1 = confusion_matrix(y_test, rnd_pred)\r\n",
        "cm_rnd_1"
      ],
      "execution_count": null,
      "outputs": [
        {
          "output_type": "execute_result",
          "data": {
            "text/plain": [
              "array([[3062,  108],\n",
              "       [ 226,  303]])"
            ]
          },
          "metadata": {
            "tags": []
          },
          "execution_count": 346
        }
      ]
    },
    {
      "cell_type": "markdown",
      "metadata": {
        "id": "BckQIVQIJuBz"
      },
      "source": [
        "## Extra Trees"
      ]
    },
    {
      "cell_type": "markdown",
      "metadata": {
        "id": "v4ZpMl5aKORO"
      },
      "source": [
        "### Without normalize Data"
      ]
    },
    {
      "cell_type": "code",
      "metadata": {
        "id": "Ao2qII1oKwmc"
      },
      "source": [
        "param_grid_etc = {\r\n",
        "    'bootstrap': ['False','True'],\r\n",
        "    'max_depth': [10,2],\r\n",
        "    'n_estimators':[150,500,750],\r\n",
        "    'criterion':['gini','entropy'],\r\n",
        "    'ccp_alpha':[0.0,1.0]\r\n",
        "    \r\n",
        "}"
      ],
      "execution_count": null,
      "outputs": []
    },
    {
      "cell_type": "code",
      "metadata": {
        "id": "QyuPk-9YLocK"
      },
      "source": [
        "etc_grid = ExtraTreesClassifier()"
      ],
      "execution_count": null,
      "outputs": []
    },
    {
      "cell_type": "code",
      "metadata": {
        "colab": {
          "base_uri": "https://localhost:8080/"
        },
        "id": "YXcBOx6RKyx1",
        "outputId": "0d82c49e-c243-45c3-e92e-4683ec63fc8d"
      },
      "source": [
        "grid_search_etc= GridSearchCV(estimator = etc, param_grid = param_grid_etc, \r\n",
        "                          cv = 3, n_jobs = -1, verbose = 2)\r\n",
        "grid_search_etc.fit(X_train,y_train)\r\n",
        "y_pred_etc=grid_search_etc.predict(X_test)"
      ],
      "execution_count": null,
      "outputs": [
        {
          "output_type": "stream",
          "text": [
            "Fitting 3 folds for each of 48 candidates, totalling 144 fits\n"
          ],
          "name": "stdout"
        },
        {
          "output_type": "stream",
          "text": [
            "[Parallel(n_jobs=-1)]: Using backend LokyBackend with 2 concurrent workers.\n",
            "[Parallel(n_jobs=-1)]: Done  37 tasks      | elapsed:   39.2s\n",
            "[Parallel(n_jobs=-1)]: Done 144 out of 144 | elapsed:  2.6min finished\n"
          ],
          "name": "stderr"
        }
      ]
    },
    {
      "cell_type": "code",
      "metadata": {
        "colab": {
          "base_uri": "https://localhost:8080/"
        },
        "id": "Zj6AQUcbMbh8",
        "outputId": "51aa8f24-c28d-49ca-d1cd-fd3c7c87ec7c"
      },
      "source": [
        "grid_search_etc.score(X_test,y_test)"
      ],
      "execution_count": null,
      "outputs": [
        {
          "output_type": "execute_result",
          "data": {
            "text/plain": [
              "0.8780751554474182"
            ]
          },
          "metadata": {
            "tags": []
          },
          "execution_count": 383
        }
      ]
    },
    {
      "cell_type": "code",
      "metadata": {
        "colab": {
          "base_uri": "https://localhost:8080/"
        },
        "id": "kR17TiCqKHJt",
        "outputId": "6889fb3f-e4d5-4e69-c6db-d1dbd0b31594"
      },
      "source": [
        "Etc =  round(grid_search_etc.score(X_test,y_test)*100,2)\r\n",
        "print('Random Forest Classifier model accuracy(in %):', Etc)"
      ],
      "execution_count": null,
      "outputs": [
        {
          "output_type": "stream",
          "text": [
            "Random Forest Classifier model accuracy(in %): 87.81\n"
          ],
          "name": "stdout"
        }
      ]
    },
    {
      "cell_type": "markdown",
      "metadata": {
        "id": "7_3E1q0VKUnP"
      },
      "source": [
        "### With normalize Data"
      ]
    },
    {
      "cell_type": "code",
      "metadata": {
        "id": "f_y_8B9iKWjZ"
      },
      "source": [
        "etc1 = ExtraTreesClassifier()"
      ],
      "execution_count": null,
      "outputs": []
    },
    {
      "cell_type": "code",
      "metadata": {
        "colab": {
          "base_uri": "https://localhost:8080/"
        },
        "id": "MJaRCpeSPSXH",
        "outputId": "2121da09-1bed-4177-9b4c-a5410f797ed6"
      },
      "source": [
        "grid_search_etc1= GridSearchCV(estimator = etc1, param_grid = param_grid_etc, \r\n",
        "                          cv = 3, n_jobs = -1, verbose = 2)\r\n",
        "grid_search_etc1.fit(Xscaled_train,yscaled_train)\r\n",
        "y_pred_etc1=grid_search_etc1.predict(Xscaled_test)"
      ],
      "execution_count": null,
      "outputs": [
        {
          "output_type": "stream",
          "text": [
            "Fitting 3 folds for each of 48 candidates, totalling 144 fits\n"
          ],
          "name": "stdout"
        },
        {
          "output_type": "stream",
          "text": [
            "[Parallel(n_jobs=-1)]: Using backend LokyBackend with 2 concurrent workers.\n",
            "[Parallel(n_jobs=-1)]: Done  37 tasks      | elapsed:   39.1s\n",
            "[Parallel(n_jobs=-1)]: Done 144 out of 144 | elapsed:  2.5min finished\n"
          ],
          "name": "stderr"
        }
      ]
    },
    {
      "cell_type": "code",
      "metadata": {
        "colab": {
          "base_uri": "https://localhost:8080/"
        },
        "id": "QVutEkCuPeNq",
        "outputId": "adc80c0e-17c4-4cf6-cef8-c2af5904e65a"
      },
      "source": [
        "grid_search_etc1.score(Xscaled_test,yscaled_test)"
      ],
      "execution_count": null,
      "outputs": [
        {
          "output_type": "execute_result",
          "data": {
            "text/plain": [
              "0.8791565287915653"
            ]
          },
          "metadata": {
            "tags": []
          },
          "execution_count": 389
        }
      ]
    },
    {
      "cell_type": "code",
      "metadata": {
        "colab": {
          "base_uri": "https://localhost:8080/"
        },
        "id": "taHWhrpbQWkI",
        "outputId": "dc13d097-8f99-498b-d143-18ce7f6f9e13"
      },
      "source": [
        "Etc1 =  round(grid_search_etc1.score(Xscaled_test,yscaled_test)*100,2)\r\n",
        "print('Random Forest Classifier model accuracy(in %):', Etc1)"
      ],
      "execution_count": null,
      "outputs": [
        {
          "output_type": "stream",
          "text": [
            "Random Forest Classifier model accuracy(in %): 87.92\n"
          ],
          "name": "stdout"
        }
      ]
    },
    {
      "cell_type": "markdown",
      "metadata": {
        "id": "UN-qlzbTRWa9"
      },
      "source": [
        "## Conclusion"
      ]
    },
    {
      "cell_type": "markdown",
      "metadata": {
        "id": "axaJRgjzRbZQ"
      },
      "source": [
        "### Decision Tree"
      ]
    },
    {
      "cell_type": "code",
      "metadata": {
        "colab": {
          "base_uri": "https://localhost:8080/"
        },
        "id": "_gx72mNqRVc9",
        "outputId": "89474cce-fe00-4f87-d8d8-0e62e4bab32c"
      },
      "source": [
        "best_DecTree=Dec_Tree1\r\n",
        "if (Dec_Tree>Dec_Tree1) : \r\n",
        "  best_DecTree = Dec_Tree\r\n",
        "best_DecTree"
      ],
      "execution_count": null,
      "outputs": [
        {
          "output_type": "execute_result",
          "data": {
            "text/plain": [
              "85.32"
            ]
          },
          "metadata": {
            "tags": []
          },
          "execution_count": 394
        }
      ]
    },
    {
      "cell_type": "markdown",
      "metadata": {
        "id": "VUsIaXR0R_6m"
      },
      "source": [
        "### Naive Bayes Classifer"
      ]
    },
    {
      "cell_type": "code",
      "metadata": {
        "colab": {
          "base_uri": "https://localhost:8080/"
        },
        "id": "_qwYqQ4iR583",
        "outputId": "f359a58c-b2f1-4359-e22b-e234a88d74c5"
      },
      "source": [
        "best_NBC=NB_gaussian1\r\n",
        "if (NB_gaussian>NB_gaussian1) : \r\n",
        "  best_NBC = NB_gaussian\r\n",
        "best_NBC"
      ],
      "execution_count": null,
      "outputs": [
        {
          "output_type": "execute_result",
          "data": {
            "text/plain": [
              "81.54"
            ]
          },
          "metadata": {
            "tags": []
          },
          "execution_count": 408
        }
      ]
    },
    {
      "cell_type": "code",
      "metadata": {
        "id": "LnUxJM9nSXif"
      },
      "source": [
        "Rnd_forest"
      ],
      "execution_count": null,
      "outputs": []
    },
    {
      "cell_type": "markdown",
      "metadata": {
        "id": "TO74OiUASSAk"
      },
      "source": [
        "### Random Forest"
      ]
    },
    {
      "cell_type": "code",
      "metadata": {
        "colab": {
          "base_uri": "https://localhost:8080/"
        },
        "id": "NJlHz6HeSTiO",
        "outputId": "1287fb50-04b8-44eb-f479-1ebd61591238"
      },
      "source": [
        "best_forest=Rnd_forest1\r\n",
        "if (Rnd_forest>Rnd_forest1) : \r\n",
        "  best_forest = Rnd_forest\r\n",
        "best_forest"
      ],
      "execution_count": null,
      "outputs": [
        {
          "output_type": "execute_result",
          "data": {
            "text/plain": [
              "91.0"
            ]
          },
          "metadata": {
            "tags": []
          },
          "execution_count": 396
        }
      ]
    },
    {
      "cell_type": "markdown",
      "metadata": {
        "id": "aOfCRIoTSuhy"
      },
      "source": [
        "### Extra Trees"
      ]
    },
    {
      "cell_type": "code",
      "metadata": {
        "colab": {
          "base_uri": "https://localhost:8080/"
        },
        "id": "0RQkKmIySyxg",
        "outputId": "150dc1bf-3778-4c01-9ece-57bd728940d6"
      },
      "source": [
        "best_trees=Etc1\r\n",
        "if (Etc>Etc1) : \r\n",
        "  best_trees = Etc\r\n",
        "best_trees"
      ],
      "execution_count": null,
      "outputs": [
        {
          "output_type": "execute_result",
          "data": {
            "text/plain": [
              "87.92"
            ]
          },
          "metadata": {
            "tags": []
          },
          "execution_count": 397
        }
      ]
    },
    {
      "cell_type": "markdown",
      "metadata": {
        "id": "caUz1jpfTA7z"
      },
      "source": [
        "### Graphique "
      ]
    },
    {
      "cell_type": "code",
      "metadata": {
        "colab": {
          "base_uri": "https://localhost:8080/",
          "height": 35
        },
        "id": "M8RSQWX1WCUk",
        "outputId": "db0471fe-ceb3-4b2d-db8b-8f11aa47db59"
      },
      "source": [
        "Labels[values.index(max(values))]"
      ],
      "execution_count": null,
      "outputs": [
        {
          "output_type": "execute_result",
          "data": {
            "application/vnd.google.colaboratory.intrinsic+json": {
              "type": "string"
            },
            "text/plain": [
              "'Rnd Forest'"
            ]
          },
          "metadata": {
            "tags": []
          },
          "execution_count": 418
        }
      ]
    },
    {
      "cell_type": "code",
      "metadata": {
        "colab": {
          "base_uri": "https://localhost:8080/",
          "height": 336
        },
        "id": "x4BgODIJTEtx",
        "outputId": "a48feb94-2141-4c64-cb47-f1ca76423315"
      },
      "source": [
        "Labels=[\"Decision Tree\",\"Naive Bayes\",\"Rnd Forest\",\"Extra Trees\"]\r\n",
        "values=[best_DecTree,best_NBC,best_forest,best_trees]\r\n",
        "sns.barplot(Labels,values)"
      ],
      "execution_count": null,
      "outputs": [
        {
          "output_type": "stream",
          "text": [
            "/usr/local/lib/python3.6/dist-packages/seaborn/_decorators.py:43: FutureWarning: Pass the following variables as keyword args: x, y. From version 0.12, the only valid positional argument will be `data`, and passing other arguments without an explicit keyword will result in an error or misinterpretation.\n",
            "  FutureWarning\n"
          ],
          "name": "stderr"
        },
        {
          "output_type": "stream",
          "text": [
            "The best model is Rnd Forest with 91.0 of accuracy\n"
          ],
          "name": "stdout"
        },
        {
          "output_type": "display_data",
          "data": {
            "image/png": "[encoded data removed]",
            "text/plain": [
              "<Figure size 432x288 with 1 Axes>"
            ]
          },
          "metadata": {
            "tags": [],
            "needs_background": "light"
          }
        }
      ]
    },
    {
      "cell_type": "code",
      "metadata": {
        "colab": {
          "base_uri": "https://localhost:8080/"
        },
        "id": "WAkY8J5WW3as",
        "outputId": "f0f47f4e-7382-46a0-a170-f2742df5acdb"
      },
      "source": [
        "print(\"The best model is {} with {} of accuracy\".format(Labels[values.index(max(values))],max(values)))"
      ],
      "execution_count": null,
      "outputs": [
        {
          "output_type": "stream",
          "text": [
            "The best model is Rnd Forest with 91.0 of accuracy\n"
          ],
          "name": "stdout"
        }
      ]
    }
  ]
}